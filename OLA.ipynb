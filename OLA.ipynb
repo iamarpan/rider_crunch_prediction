{
 "cells": [
  {
   "cell_type": "markdown",
   "id": "08686d8f",
   "metadata": {},
   "source": [
    "## Problem Statement\n",
    "- Recruiting and retaining drivers is seen by industry watchers as a tough battle for Ola. Churn among drivers is high and it’s very easy for drivers to stop working for the service on the fly or jump to Uber depending on the rates.\n",
    "\n",
    "- In this problem statement, we'll use bagging and boosting techniques to build a model that can predict what is the chance of a driver leaving based on his attributes"
   ]
  },
  {
   "cell_type": "code",
   "execution_count": 429,
   "id": "c3eb54a0",
   "metadata": {},
   "outputs": [],
   "source": [
    "import pandas as pd\n",
    "import numpy as np\n",
    "import matplotlib.pyplot as plt\n",
    "import seaborn as sns\n",
    "from sklearn.preprocessing import LabelEncoder,StandardScaler\n",
    "from sklearn.impute import KNNImputer\n",
    "from sklearn.model_selection import train_test_split,GridSearchCV\n",
    "from sklearn.ensemble import RandomForestClassifier\n",
    "from sklearn.metrics import classification_report,f1_score,confusion_matrix,plot_confusion_matrix,auc,roc_curve\n",
    "import xgboost as xgb\n",
    "from category_encoders import *"
   ]
  },
  {
   "cell_type": "code",
   "execution_count": 430,
   "id": "85dc934a",
   "metadata": {},
   "outputs": [],
   "source": [
    "df = pd.read_csv('ola_driver.csv')"
   ]
  },
  {
   "cell_type": "code",
   "execution_count": 431,
   "id": "e996884d",
   "metadata": {},
   "outputs": [],
   "source": [
    "df.drop('Unnamed: 0',axis=1,inplace=True)"
   ]
  },
  {
   "cell_type": "code",
   "execution_count": 432,
   "id": "407848ae",
   "metadata": {},
   "outputs": [
    {
     "name": "stdout",
     "output_type": "stream",
     "text": [
      "<class 'pandas.core.frame.DataFrame'>\n",
      "RangeIndex: 19104 entries, 0 to 19103\n",
      "Data columns (total 13 columns):\n",
      " #   Column                Non-Null Count  Dtype  \n",
      "---  ------                --------------  -----  \n",
      " 0   MMM-YY                19104 non-null  object \n",
      " 1   Driver_ID             19104 non-null  int64  \n",
      " 2   Age                   19043 non-null  float64\n",
      " 3   Gender                19052 non-null  float64\n",
      " 4   City                  19104 non-null  object \n",
      " 5   Education_Level       19104 non-null  int64  \n",
      " 6   Income                19104 non-null  int64  \n",
      " 7   Dateofjoining         19104 non-null  object \n",
      " 8   LastWorkingDate       1616 non-null   object \n",
      " 9   Joining Designation   19104 non-null  int64  \n",
      " 10  Grade                 19104 non-null  int64  \n",
      " 11  Total Business Value  19104 non-null  int64  \n",
      " 12  Quarterly Rating      19104 non-null  int64  \n",
      "dtypes: float64(2), int64(7), object(4)\n",
      "memory usage: 1.9+ MB\n"
     ]
    }
   ],
   "source": [
    "df.info()"
   ]
  },
  {
   "cell_type": "code",
   "execution_count": 433,
   "id": "0aead93a",
   "metadata": {},
   "outputs": [
    {
     "data": {
      "text/html": [
       "<div>\n",
       "<style scoped>\n",
       "    .dataframe tbody tr th:only-of-type {\n",
       "        vertical-align: middle;\n",
       "    }\n",
       "\n",
       "    .dataframe tbody tr th {\n",
       "        vertical-align: top;\n",
       "    }\n",
       "\n",
       "    .dataframe thead th {\n",
       "        text-align: right;\n",
       "    }\n",
       "</style>\n",
       "<table border=\"1\" class=\"dataframe\">\n",
       "  <thead>\n",
       "    <tr style=\"text-align: right;\">\n",
       "      <th></th>\n",
       "      <th>MMM-YY</th>\n",
       "      <th>Driver_ID</th>\n",
       "      <th>Age</th>\n",
       "      <th>Gender</th>\n",
       "      <th>City</th>\n",
       "      <th>Education_Level</th>\n",
       "      <th>Income</th>\n",
       "      <th>Dateofjoining</th>\n",
       "      <th>LastWorkingDate</th>\n",
       "      <th>Joining Designation</th>\n",
       "      <th>Grade</th>\n",
       "      <th>Total Business Value</th>\n",
       "      <th>Quarterly Rating</th>\n",
       "    </tr>\n",
       "  </thead>\n",
       "  <tbody>\n",
       "    <tr>\n",
       "      <th>count</th>\n",
       "      <td>19104</td>\n",
       "      <td>19104.000000</td>\n",
       "      <td>19043.000000</td>\n",
       "      <td>19052.000000</td>\n",
       "      <td>19104</td>\n",
       "      <td>19104.000000</td>\n",
       "      <td>19104.000000</td>\n",
       "      <td>19104</td>\n",
       "      <td>1616</td>\n",
       "      <td>19104.000000</td>\n",
       "      <td>19104.000000</td>\n",
       "      <td>1.910400e+04</td>\n",
       "      <td>19104.000000</td>\n",
       "    </tr>\n",
       "    <tr>\n",
       "      <th>unique</th>\n",
       "      <td>24</td>\n",
       "      <td>NaN</td>\n",
       "      <td>NaN</td>\n",
       "      <td>NaN</td>\n",
       "      <td>29</td>\n",
       "      <td>NaN</td>\n",
       "      <td>NaN</td>\n",
       "      <td>869</td>\n",
       "      <td>493</td>\n",
       "      <td>NaN</td>\n",
       "      <td>NaN</td>\n",
       "      <td>NaN</td>\n",
       "      <td>NaN</td>\n",
       "    </tr>\n",
       "    <tr>\n",
       "      <th>top</th>\n",
       "      <td>01/01/19</td>\n",
       "      <td>NaN</td>\n",
       "      <td>NaN</td>\n",
       "      <td>NaN</td>\n",
       "      <td>C20</td>\n",
       "      <td>NaN</td>\n",
       "      <td>NaN</td>\n",
       "      <td>23/07/15</td>\n",
       "      <td>29/07/20</td>\n",
       "      <td>NaN</td>\n",
       "      <td>NaN</td>\n",
       "      <td>NaN</td>\n",
       "      <td>NaN</td>\n",
       "    </tr>\n",
       "    <tr>\n",
       "      <th>freq</th>\n",
       "      <td>1022</td>\n",
       "      <td>NaN</td>\n",
       "      <td>NaN</td>\n",
       "      <td>NaN</td>\n",
       "      <td>1008</td>\n",
       "      <td>NaN</td>\n",
       "      <td>NaN</td>\n",
       "      <td>192</td>\n",
       "      <td>70</td>\n",
       "      <td>NaN</td>\n",
       "      <td>NaN</td>\n",
       "      <td>NaN</td>\n",
       "      <td>NaN</td>\n",
       "    </tr>\n",
       "    <tr>\n",
       "      <th>mean</th>\n",
       "      <td>NaN</td>\n",
       "      <td>1415.591133</td>\n",
       "      <td>34.668435</td>\n",
       "      <td>0.418749</td>\n",
       "      <td>NaN</td>\n",
       "      <td>1.021671</td>\n",
       "      <td>65652.025126</td>\n",
       "      <td>NaN</td>\n",
       "      <td>NaN</td>\n",
       "      <td>1.690536</td>\n",
       "      <td>2.252670</td>\n",
       "      <td>5.716621e+05</td>\n",
       "      <td>2.008899</td>\n",
       "    </tr>\n",
       "    <tr>\n",
       "      <th>std</th>\n",
       "      <td>NaN</td>\n",
       "      <td>810.705321</td>\n",
       "      <td>6.257912</td>\n",
       "      <td>0.493367</td>\n",
       "      <td>NaN</td>\n",
       "      <td>0.800167</td>\n",
       "      <td>30914.515344</td>\n",
       "      <td>NaN</td>\n",
       "      <td>NaN</td>\n",
       "      <td>0.836984</td>\n",
       "      <td>1.026512</td>\n",
       "      <td>1.128312e+06</td>\n",
       "      <td>1.009832</td>\n",
       "    </tr>\n",
       "    <tr>\n",
       "      <th>min</th>\n",
       "      <td>NaN</td>\n",
       "      <td>1.000000</td>\n",
       "      <td>21.000000</td>\n",
       "      <td>0.000000</td>\n",
       "      <td>NaN</td>\n",
       "      <td>0.000000</td>\n",
       "      <td>10747.000000</td>\n",
       "      <td>NaN</td>\n",
       "      <td>NaN</td>\n",
       "      <td>1.000000</td>\n",
       "      <td>1.000000</td>\n",
       "      <td>-6.000000e+06</td>\n",
       "      <td>1.000000</td>\n",
       "    </tr>\n",
       "    <tr>\n",
       "      <th>25%</th>\n",
       "      <td>NaN</td>\n",
       "      <td>710.000000</td>\n",
       "      <td>30.000000</td>\n",
       "      <td>0.000000</td>\n",
       "      <td>NaN</td>\n",
       "      <td>0.000000</td>\n",
       "      <td>42383.000000</td>\n",
       "      <td>NaN</td>\n",
       "      <td>NaN</td>\n",
       "      <td>1.000000</td>\n",
       "      <td>1.000000</td>\n",
       "      <td>0.000000e+00</td>\n",
       "      <td>1.000000</td>\n",
       "    </tr>\n",
       "    <tr>\n",
       "      <th>50%</th>\n",
       "      <td>NaN</td>\n",
       "      <td>1417.000000</td>\n",
       "      <td>34.000000</td>\n",
       "      <td>0.000000</td>\n",
       "      <td>NaN</td>\n",
       "      <td>1.000000</td>\n",
       "      <td>60087.000000</td>\n",
       "      <td>NaN</td>\n",
       "      <td>NaN</td>\n",
       "      <td>1.000000</td>\n",
       "      <td>2.000000</td>\n",
       "      <td>2.500000e+05</td>\n",
       "      <td>2.000000</td>\n",
       "    </tr>\n",
       "    <tr>\n",
       "      <th>75%</th>\n",
       "      <td>NaN</td>\n",
       "      <td>2137.000000</td>\n",
       "      <td>39.000000</td>\n",
       "      <td>1.000000</td>\n",
       "      <td>NaN</td>\n",
       "      <td>2.000000</td>\n",
       "      <td>83969.000000</td>\n",
       "      <td>NaN</td>\n",
       "      <td>NaN</td>\n",
       "      <td>2.000000</td>\n",
       "      <td>3.000000</td>\n",
       "      <td>6.997000e+05</td>\n",
       "      <td>3.000000</td>\n",
       "    </tr>\n",
       "    <tr>\n",
       "      <th>max</th>\n",
       "      <td>NaN</td>\n",
       "      <td>2788.000000</td>\n",
       "      <td>58.000000</td>\n",
       "      <td>1.000000</td>\n",
       "      <td>NaN</td>\n",
       "      <td>2.000000</td>\n",
       "      <td>188418.000000</td>\n",
       "      <td>NaN</td>\n",
       "      <td>NaN</td>\n",
       "      <td>5.000000</td>\n",
       "      <td>5.000000</td>\n",
       "      <td>3.374772e+07</td>\n",
       "      <td>4.000000</td>\n",
       "    </tr>\n",
       "  </tbody>\n",
       "</table>\n",
       "</div>"
      ],
      "text/plain": [
       "          MMM-YY     Driver_ID           Age        Gender   City  \\\n",
       "count      19104  19104.000000  19043.000000  19052.000000  19104   \n",
       "unique        24           NaN           NaN           NaN     29   \n",
       "top     01/01/19           NaN           NaN           NaN    C20   \n",
       "freq        1022           NaN           NaN           NaN   1008   \n",
       "mean         NaN   1415.591133     34.668435      0.418749    NaN   \n",
       "std          NaN    810.705321      6.257912      0.493367    NaN   \n",
       "min          NaN      1.000000     21.000000      0.000000    NaN   \n",
       "25%          NaN    710.000000     30.000000      0.000000    NaN   \n",
       "50%          NaN   1417.000000     34.000000      0.000000    NaN   \n",
       "75%          NaN   2137.000000     39.000000      1.000000    NaN   \n",
       "max          NaN   2788.000000     58.000000      1.000000    NaN   \n",
       "\n",
       "        Education_Level         Income Dateofjoining LastWorkingDate  \\\n",
       "count      19104.000000   19104.000000         19104            1616   \n",
       "unique              NaN            NaN           869             493   \n",
       "top                 NaN            NaN      23/07/15        29/07/20   \n",
       "freq                NaN            NaN           192              70   \n",
       "mean           1.021671   65652.025126           NaN             NaN   \n",
       "std            0.800167   30914.515344           NaN             NaN   \n",
       "min            0.000000   10747.000000           NaN             NaN   \n",
       "25%            0.000000   42383.000000           NaN             NaN   \n",
       "50%            1.000000   60087.000000           NaN             NaN   \n",
       "75%            2.000000   83969.000000           NaN             NaN   \n",
       "max            2.000000  188418.000000           NaN             NaN   \n",
       "\n",
       "        Joining Designation         Grade  Total Business Value  \\\n",
       "count          19104.000000  19104.000000          1.910400e+04   \n",
       "unique                  NaN           NaN                   NaN   \n",
       "top                     NaN           NaN                   NaN   \n",
       "freq                    NaN           NaN                   NaN   \n",
       "mean               1.690536      2.252670          5.716621e+05   \n",
       "std                0.836984      1.026512          1.128312e+06   \n",
       "min                1.000000      1.000000         -6.000000e+06   \n",
       "25%                1.000000      1.000000          0.000000e+00   \n",
       "50%                1.000000      2.000000          2.500000e+05   \n",
       "75%                2.000000      3.000000          6.997000e+05   \n",
       "max                5.000000      5.000000          3.374772e+07   \n",
       "\n",
       "        Quarterly Rating  \n",
       "count       19104.000000  \n",
       "unique               NaN  \n",
       "top                  NaN  \n",
       "freq                 NaN  \n",
       "mean            2.008899  \n",
       "std             1.009832  \n",
       "min             1.000000  \n",
       "25%             1.000000  \n",
       "50%             2.000000  \n",
       "75%             3.000000  \n",
       "max             4.000000  "
      ]
     },
     "execution_count": 433,
     "metadata": {},
     "output_type": "execute_result"
    }
   ],
   "source": [
    "df.describe(include='all')"
   ]
  },
  {
   "cell_type": "markdown",
   "id": "556054e6",
   "metadata": {},
   "source": [
    "## Feature Engineering"
   ]
  },
  {
   "cell_type": "code",
   "execution_count": 434,
   "id": "e6107292",
   "metadata": {},
   "outputs": [],
   "source": [
    "def check_rating(group):\n",
    "    selected = [False] * len(group)\n",
    "    selected[0] = selected[-1] = True\n",
    "    new_group = group[selected]\n",
    "    \n",
    "    first = new_group['Quarterly Rating'].values[0]\n",
    "    last = new_group['Quarterly Rating'].values[-1]\n",
    "    group['Increment Rating'] = 1 if last>first else 0\n",
    "    return group\n",
    "\n"
   ]
  },
  {
   "cell_type": "code",
   "execution_count": 435,
   "id": "7d25f0c1",
   "metadata": {},
   "outputs": [],
   "source": [
    "df = df.groupby('Driver_ID').apply(check_rating)"
   ]
  },
  {
   "cell_type": "code",
   "execution_count": 436,
   "id": "166e9325",
   "metadata": {},
   "outputs": [],
   "source": [
    "df.reset_index(drop=True,inplace=True)"
   ]
  },
  {
   "cell_type": "code",
   "execution_count": 437,
   "id": "933d10ad",
   "metadata": {},
   "outputs": [
    {
     "data": {
      "text/html": [
       "<div>\n",
       "<style scoped>\n",
       "    .dataframe tbody tr th:only-of-type {\n",
       "        vertical-align: middle;\n",
       "    }\n",
       "\n",
       "    .dataframe tbody tr th {\n",
       "        vertical-align: top;\n",
       "    }\n",
       "\n",
       "    .dataframe thead th {\n",
       "        text-align: right;\n",
       "    }\n",
       "</style>\n",
       "<table border=\"1\" class=\"dataframe\">\n",
       "  <thead>\n",
       "    <tr style=\"text-align: right;\">\n",
       "      <th></th>\n",
       "      <th>MMM-YY</th>\n",
       "      <th>Driver_ID</th>\n",
       "      <th>Age</th>\n",
       "      <th>Gender</th>\n",
       "      <th>City</th>\n",
       "      <th>Education_Level</th>\n",
       "      <th>Income</th>\n",
       "      <th>Dateofjoining</th>\n",
       "      <th>LastWorkingDate</th>\n",
       "      <th>Joining Designation</th>\n",
       "      <th>Grade</th>\n",
       "      <th>Total Business Value</th>\n",
       "      <th>Quarterly Rating</th>\n",
       "      <th>Increment Rating</th>\n",
       "    </tr>\n",
       "  </thead>\n",
       "  <tbody>\n",
       "    <tr>\n",
       "      <th>19053</th>\n",
       "      <td>07/01/19</td>\n",
       "      <td>2782</td>\n",
       "      <td>26.0</td>\n",
       "      <td>0.0</td>\n",
       "      <td>C19</td>\n",
       "      <td>1</td>\n",
       "      <td>29582</td>\n",
       "      <td>16/05/19</td>\n",
       "      <td>NaN</td>\n",
       "      <td>1</td>\n",
       "      <td>1</td>\n",
       "      <td>0</td>\n",
       "      <td>1</td>\n",
       "      <td>0</td>\n",
       "    </tr>\n",
       "    <tr>\n",
       "      <th>19054</th>\n",
       "      <td>08/01/19</td>\n",
       "      <td>2782</td>\n",
       "      <td>26.0</td>\n",
       "      <td>0.0</td>\n",
       "      <td>C19</td>\n",
       "      <td>1</td>\n",
       "      <td>29582</td>\n",
       "      <td>16/05/19</td>\n",
       "      <td>16/08/19</td>\n",
       "      <td>1</td>\n",
       "      <td>1</td>\n",
       "      <td>0</td>\n",
       "      <td>1</td>\n",
       "      <td>0</td>\n",
       "    </tr>\n",
       "    <tr>\n",
       "      <th>19079</th>\n",
       "      <td>08/01/20</td>\n",
       "      <td>2785</td>\n",
       "      <td>34.0</td>\n",
       "      <td>1.0</td>\n",
       "      <td>C9</td>\n",
       "      <td>0</td>\n",
       "      <td>12105</td>\n",
       "      <td>28/08/20</td>\n",
       "      <td>NaN</td>\n",
       "      <td>1</td>\n",
       "      <td>1</td>\n",
       "      <td>0</td>\n",
       "      <td>1</td>\n",
       "      <td>0</td>\n",
       "    </tr>\n",
       "    <tr>\n",
       "      <th>19080</th>\n",
       "      <td>09/01/20</td>\n",
       "      <td>2785</td>\n",
       "      <td>34.0</td>\n",
       "      <td>1.0</td>\n",
       "      <td>C9</td>\n",
       "      <td>0</td>\n",
       "      <td>12105</td>\n",
       "      <td>28/08/20</td>\n",
       "      <td>NaN</td>\n",
       "      <td>1</td>\n",
       "      <td>1</td>\n",
       "      <td>0</td>\n",
       "      <td>1</td>\n",
       "      <td>0</td>\n",
       "    </tr>\n",
       "    <tr>\n",
       "      <th>19081</th>\n",
       "      <td>10/01/20</td>\n",
       "      <td>2785</td>\n",
       "      <td>34.0</td>\n",
       "      <td>1.0</td>\n",
       "      <td>C9</td>\n",
       "      <td>0</td>\n",
       "      <td>12105</td>\n",
       "      <td>28/08/20</td>\n",
       "      <td>28/10/20</td>\n",
       "      <td>1</td>\n",
       "      <td>1</td>\n",
       "      <td>0</td>\n",
       "      <td>1</td>\n",
       "      <td>0</td>\n",
       "    </tr>\n",
       "    <tr>\n",
       "      <th>19082</th>\n",
       "      <td>01/01/19</td>\n",
       "      <td>2786</td>\n",
       "      <td>44.0</td>\n",
       "      <td>0.0</td>\n",
       "      <td>C19</td>\n",
       "      <td>0</td>\n",
       "      <td>35370</td>\n",
       "      <td>31/07/18</td>\n",
       "      <td>NaN</td>\n",
       "      <td>2</td>\n",
       "      <td>2</td>\n",
       "      <td>221080</td>\n",
       "      <td>2</td>\n",
       "      <td>0</td>\n",
       "    </tr>\n",
       "    <tr>\n",
       "      <th>19083</th>\n",
       "      <td>02/01/19</td>\n",
       "      <td>2786</td>\n",
       "      <td>45.0</td>\n",
       "      <td>0.0</td>\n",
       "      <td>C19</td>\n",
       "      <td>0</td>\n",
       "      <td>35370</td>\n",
       "      <td>31/07/18</td>\n",
       "      <td>NaN</td>\n",
       "      <td>2</td>\n",
       "      <td>2</td>\n",
       "      <td>485270</td>\n",
       "      <td>2</td>\n",
       "      <td>0</td>\n",
       "    </tr>\n",
       "    <tr>\n",
       "      <th>19084</th>\n",
       "      <td>03/01/19</td>\n",
       "      <td>2786</td>\n",
       "      <td>45.0</td>\n",
       "      <td>0.0</td>\n",
       "      <td>C19</td>\n",
       "      <td>0</td>\n",
       "      <td>35370</td>\n",
       "      <td>31/07/18</td>\n",
       "      <td>NaN</td>\n",
       "      <td>2</td>\n",
       "      <td>2</td>\n",
       "      <td>970380</td>\n",
       "      <td>2</td>\n",
       "      <td>0</td>\n",
       "    </tr>\n",
       "    <tr>\n",
       "      <th>19085</th>\n",
       "      <td>04/01/19</td>\n",
       "      <td>2786</td>\n",
       "      <td>45.0</td>\n",
       "      <td>0.0</td>\n",
       "      <td>C19</td>\n",
       "      <td>0</td>\n",
       "      <td>35370</td>\n",
       "      <td>31/07/18</td>\n",
       "      <td>NaN</td>\n",
       "      <td>2</td>\n",
       "      <td>2</td>\n",
       "      <td>432240</td>\n",
       "      <td>2</td>\n",
       "      <td>0</td>\n",
       "    </tr>\n",
       "    <tr>\n",
       "      <th>19086</th>\n",
       "      <td>05/01/19</td>\n",
       "      <td>2786</td>\n",
       "      <td>45.0</td>\n",
       "      <td>0.0</td>\n",
       "      <td>C19</td>\n",
       "      <td>0</td>\n",
       "      <td>35370</td>\n",
       "      <td>31/07/18</td>\n",
       "      <td>NaN</td>\n",
       "      <td>2</td>\n",
       "      <td>2</td>\n",
       "      <td>387660</td>\n",
       "      <td>2</td>\n",
       "      <td>0</td>\n",
       "    </tr>\n",
       "    <tr>\n",
       "      <th>19087</th>\n",
       "      <td>06/01/19</td>\n",
       "      <td>2786</td>\n",
       "      <td>45.0</td>\n",
       "      <td>0.0</td>\n",
       "      <td>C19</td>\n",
       "      <td>0</td>\n",
       "      <td>35370</td>\n",
       "      <td>31/07/18</td>\n",
       "      <td>NaN</td>\n",
       "      <td>2</td>\n",
       "      <td>2</td>\n",
       "      <td>0</td>\n",
       "      <td>2</td>\n",
       "      <td>0</td>\n",
       "    </tr>\n",
       "    <tr>\n",
       "      <th>19088</th>\n",
       "      <td>07/01/19</td>\n",
       "      <td>2786</td>\n",
       "      <td>45.0</td>\n",
       "      <td>0.0</td>\n",
       "      <td>C19</td>\n",
       "      <td>0</td>\n",
       "      <td>35370</td>\n",
       "      <td>31/07/18</td>\n",
       "      <td>NaN</td>\n",
       "      <td>2</td>\n",
       "      <td>2</td>\n",
       "      <td>318460</td>\n",
       "      <td>1</td>\n",
       "      <td>0</td>\n",
       "    </tr>\n",
       "    <tr>\n",
       "      <th>19089</th>\n",
       "      <td>08/01/19</td>\n",
       "      <td>2786</td>\n",
       "      <td>45.0</td>\n",
       "      <td>0.0</td>\n",
       "      <td>C19</td>\n",
       "      <td>0</td>\n",
       "      <td>35370</td>\n",
       "      <td>31/07/18</td>\n",
       "      <td>NaN</td>\n",
       "      <td>2</td>\n",
       "      <td>2</td>\n",
       "      <td>0</td>\n",
       "      <td>1</td>\n",
       "      <td>0</td>\n",
       "    </tr>\n",
       "    <tr>\n",
       "      <th>19090</th>\n",
       "      <td>09/01/19</td>\n",
       "      <td>2786</td>\n",
       "      <td>45.0</td>\n",
       "      <td>0.0</td>\n",
       "      <td>C19</td>\n",
       "      <td>0</td>\n",
       "      <td>35370</td>\n",
       "      <td>31/07/18</td>\n",
       "      <td>22/09/19</td>\n",
       "      <td>2</td>\n",
       "      <td>2</td>\n",
       "      <td>0</td>\n",
       "      <td>1</td>\n",
       "      <td>0</td>\n",
       "    </tr>\n",
       "    <tr>\n",
       "      <th>19091</th>\n",
       "      <td>01/01/19</td>\n",
       "      <td>2787</td>\n",
       "      <td>28.0</td>\n",
       "      <td>1.0</td>\n",
       "      <td>C20</td>\n",
       "      <td>2</td>\n",
       "      <td>69498</td>\n",
       "      <td>21/07/18</td>\n",
       "      <td>NaN</td>\n",
       "      <td>1</td>\n",
       "      <td>1</td>\n",
       "      <td>408090</td>\n",
       "      <td>2</td>\n",
       "      <td>0</td>\n",
       "    </tr>\n",
       "    <tr>\n",
       "      <th>19092</th>\n",
       "      <td>02/01/19</td>\n",
       "      <td>2787</td>\n",
       "      <td>28.0</td>\n",
       "      <td>1.0</td>\n",
       "      <td>C20</td>\n",
       "      <td>2</td>\n",
       "      <td>69498</td>\n",
       "      <td>21/07/18</td>\n",
       "      <td>NaN</td>\n",
       "      <td>1</td>\n",
       "      <td>1</td>\n",
       "      <td>250000</td>\n",
       "      <td>2</td>\n",
       "      <td>0</td>\n",
       "    </tr>\n",
       "    <tr>\n",
       "      <th>19093</th>\n",
       "      <td>03/01/19</td>\n",
       "      <td>2787</td>\n",
       "      <td>28.0</td>\n",
       "      <td>1.0</td>\n",
       "      <td>C20</td>\n",
       "      <td>2</td>\n",
       "      <td>69498</td>\n",
       "      <td>21/07/18</td>\n",
       "      <td>NaN</td>\n",
       "      <td>1</td>\n",
       "      <td>1</td>\n",
       "      <td>319740</td>\n",
       "      <td>2</td>\n",
       "      <td>0</td>\n",
       "    </tr>\n",
       "    <tr>\n",
       "      <th>19094</th>\n",
       "      <td>04/01/19</td>\n",
       "      <td>2787</td>\n",
       "      <td>28.0</td>\n",
       "      <td>1.0</td>\n",
       "      <td>C20</td>\n",
       "      <td>2</td>\n",
       "      <td>69498</td>\n",
       "      <td>21/07/18</td>\n",
       "      <td>NaN</td>\n",
       "      <td>1</td>\n",
       "      <td>1</td>\n",
       "      <td>0</td>\n",
       "      <td>1</td>\n",
       "      <td>0</td>\n",
       "    </tr>\n",
       "    <tr>\n",
       "      <th>19095</th>\n",
       "      <td>05/01/19</td>\n",
       "      <td>2787</td>\n",
       "      <td>28.0</td>\n",
       "      <td>1.0</td>\n",
       "      <td>C20</td>\n",
       "      <td>2</td>\n",
       "      <td>69498</td>\n",
       "      <td>21/07/18</td>\n",
       "      <td>NaN</td>\n",
       "      <td>1</td>\n",
       "      <td>1</td>\n",
       "      <td>0</td>\n",
       "      <td>1</td>\n",
       "      <td>0</td>\n",
       "    </tr>\n",
       "    <tr>\n",
       "      <th>19096</th>\n",
       "      <td>06/01/19</td>\n",
       "      <td>2787</td>\n",
       "      <td>28.0</td>\n",
       "      <td>1.0</td>\n",
       "      <td>C20</td>\n",
       "      <td>2</td>\n",
       "      <td>69498</td>\n",
       "      <td>21/07/18</td>\n",
       "      <td>20/06/19</td>\n",
       "      <td>1</td>\n",
       "      <td>1</td>\n",
       "      <td>0</td>\n",
       "      <td>1</td>\n",
       "      <td>0</td>\n",
       "    </tr>\n",
       "  </tbody>\n",
       "</table>\n",
       "</div>"
      ],
      "text/plain": [
       "         MMM-YY  Driver_ID   Age  Gender City  Education_Level  Income  \\\n",
       "19053  07/01/19       2782  26.0     0.0  C19                1   29582   \n",
       "19054  08/01/19       2782  26.0     0.0  C19                1   29582   \n",
       "19079  08/01/20       2785  34.0     1.0   C9                0   12105   \n",
       "19080  09/01/20       2785  34.0     1.0   C9                0   12105   \n",
       "19081  10/01/20       2785  34.0     1.0   C9                0   12105   \n",
       "19082  01/01/19       2786  44.0     0.0  C19                0   35370   \n",
       "19083  02/01/19       2786  45.0     0.0  C19                0   35370   \n",
       "19084  03/01/19       2786  45.0     0.0  C19                0   35370   \n",
       "19085  04/01/19       2786  45.0     0.0  C19                0   35370   \n",
       "19086  05/01/19       2786  45.0     0.0  C19                0   35370   \n",
       "19087  06/01/19       2786  45.0     0.0  C19                0   35370   \n",
       "19088  07/01/19       2786  45.0     0.0  C19                0   35370   \n",
       "19089  08/01/19       2786  45.0     0.0  C19                0   35370   \n",
       "19090  09/01/19       2786  45.0     0.0  C19                0   35370   \n",
       "19091  01/01/19       2787  28.0     1.0  C20                2   69498   \n",
       "19092  02/01/19       2787  28.0     1.0  C20                2   69498   \n",
       "19093  03/01/19       2787  28.0     1.0  C20                2   69498   \n",
       "19094  04/01/19       2787  28.0     1.0  C20                2   69498   \n",
       "19095  05/01/19       2787  28.0     1.0  C20                2   69498   \n",
       "19096  06/01/19       2787  28.0     1.0  C20                2   69498   \n",
       "\n",
       "      Dateofjoining LastWorkingDate  Joining Designation  Grade  \\\n",
       "19053      16/05/19             NaN                    1      1   \n",
       "19054      16/05/19        16/08/19                    1      1   \n",
       "19079      28/08/20             NaN                    1      1   \n",
       "19080      28/08/20             NaN                    1      1   \n",
       "19081      28/08/20        28/10/20                    1      1   \n",
       "19082      31/07/18             NaN                    2      2   \n",
       "19083      31/07/18             NaN                    2      2   \n",
       "19084      31/07/18             NaN                    2      2   \n",
       "19085      31/07/18             NaN                    2      2   \n",
       "19086      31/07/18             NaN                    2      2   \n",
       "19087      31/07/18             NaN                    2      2   \n",
       "19088      31/07/18             NaN                    2      2   \n",
       "19089      31/07/18             NaN                    2      2   \n",
       "19090      31/07/18        22/09/19                    2      2   \n",
       "19091      21/07/18             NaN                    1      1   \n",
       "19092      21/07/18             NaN                    1      1   \n",
       "19093      21/07/18             NaN                    1      1   \n",
       "19094      21/07/18             NaN                    1      1   \n",
       "19095      21/07/18             NaN                    1      1   \n",
       "19096      21/07/18        20/06/19                    1      1   \n",
       "\n",
       "       Total Business Value  Quarterly Rating  Increment Rating  \n",
       "19053                     0                 1                 0  \n",
       "19054                     0                 1                 0  \n",
       "19079                     0                 1                 0  \n",
       "19080                     0                 1                 0  \n",
       "19081                     0                 1                 0  \n",
       "19082                221080                 2                 0  \n",
       "19083                485270                 2                 0  \n",
       "19084                970380                 2                 0  \n",
       "19085                432240                 2                 0  \n",
       "19086                387660                 2                 0  \n",
       "19087                     0                 2                 0  \n",
       "19088                318460                 1                 0  \n",
       "19089                     0                 1                 0  \n",
       "19090                     0                 1                 0  \n",
       "19091                408090                 2                 0  \n",
       "19092                250000                 2                 0  \n",
       "19093                319740                 2                 0  \n",
       "19094                     0                 1                 0  \n",
       "19095                     0                 1                 0  \n",
       "19096                     0                 1                 0  "
      ]
     },
     "execution_count": 437,
     "metadata": {},
     "output_type": "execute_result"
    }
   ],
   "source": [
    "df[df['Increment Rating']==0].tail(20)"
   ]
  },
  {
   "cell_type": "code",
   "execution_count": 438,
   "id": "22aad7cf",
   "metadata": {},
   "outputs": [],
   "source": [
    "def create_target(group):\n",
    "    group['Target'] = 1 if group['LastWorkingDate'].notnull().values.any() else 0\n",
    "    return group"
   ]
  },
  {
   "cell_type": "code",
   "execution_count": 439,
   "id": "60cb063a",
   "metadata": {},
   "outputs": [],
   "source": [
    "df = df.groupby('Driver_ID').apply(create_target)"
   ]
  },
  {
   "cell_type": "code",
   "execution_count": 440,
   "id": "e4ef560e",
   "metadata": {},
   "outputs": [],
   "source": [
    "df.reset_index(drop=True,inplace=True)"
   ]
  },
  {
   "cell_type": "code",
   "execution_count": 441,
   "id": "e250e8ee",
   "metadata": {},
   "outputs": [],
   "source": [
    "def check_income(group):\n",
    "    selected = [False] * len(group)\n",
    "    selected[0] = selected[-1] = True\n",
    "    new_group = group[selected]\n",
    "    \n",
    "    first = new_group['Income'].values[0]\n",
    "    last = new_group['Income'].values[-1]\n",
    "    group['Increment Income'] = 1 if last>first else 0\n",
    "    return group\n",
    "\n",
    "df = df.groupby('Driver_ID').apply(check_income)\n",
    "df.reset_index(drop=True,inplace=True)"
   ]
  },
  {
   "cell_type": "code",
   "execution_count": 442,
   "id": "67607fc6",
   "metadata": {},
   "outputs": [],
   "source": [
    "df['Total Business Value'] = df.groupby('Driver_ID')['Total Business Value'].sum()"
   ]
  },
  {
   "cell_type": "code",
   "execution_count": 443,
   "id": "64023458",
   "metadata": {},
   "outputs": [],
   "source": [
    "total_business_value = df.groupby(['Driver_ID'])['Total Business Value'].agg('sum')\n"
   ]
  },
  {
   "cell_type": "code",
   "execution_count": 444,
   "id": "376502ad",
   "metadata": {},
   "outputs": [],
   "source": [
    "df = df.drop_duplicates(subset=['Driver_ID'],keep='last')\n"
   ]
  },
  {
   "cell_type": "code",
   "execution_count": 445,
   "id": "0c800111",
   "metadata": {},
   "outputs": [],
   "source": [
    "df = pd.merge(df,total_business_value,on='Driver_ID')"
   ]
  },
  {
   "cell_type": "code",
   "execution_count": null,
   "id": "765788c6",
   "metadata": {},
   "outputs": [],
   "source": []
  },
  {
   "cell_type": "code",
   "execution_count": 446,
   "id": "56b38208",
   "metadata": {},
   "outputs": [],
   "source": [
    "df['MMM-YY'] = pd.to_datetime(df['MMM-YY'],errors='ignore')\n",
    "df['Dateofjoining'] = pd.to_datetime(df['Dateofjoining'],errors='ignore')\n",
    "df['LastWorkingDate'] = pd.to_datetime(df['LastWorkingDate'],errors='ignore')"
   ]
  },
  {
   "cell_type": "code",
   "execution_count": 447,
   "id": "0edc2dd5",
   "metadata": {},
   "outputs": [
    {
     "data": {
      "text/plain": [
       "MMM-YY                       0\n",
       "Driver_ID                    0\n",
       "Age                          7\n",
       "Gender                      10\n",
       "City                         0\n",
       "Education_Level              0\n",
       "Income                       0\n",
       "Dateofjoining                0\n",
       "LastWorkingDate            765\n",
       "Joining Designation          0\n",
       "Grade                        0\n",
       "Total Business Value_x    2061\n",
       "Quarterly Rating             0\n",
       "Increment Rating             0\n",
       "Target                       0\n",
       "Increment Income             0\n",
       "Total Business Value_y       0\n",
       "dtype: int64"
      ]
     },
     "execution_count": 447,
     "metadata": {},
     "output_type": "execute_result"
    }
   ],
   "source": [
    "df.isnull().sum()"
   ]
  },
  {
   "cell_type": "code",
   "execution_count": 448,
   "id": "49a6cc3b",
   "metadata": {},
   "outputs": [
    {
     "data": {
      "text/html": [
       "<div>\n",
       "<style scoped>\n",
       "    .dataframe tbody tr th:only-of-type {\n",
       "        vertical-align: middle;\n",
       "    }\n",
       "\n",
       "    .dataframe tbody tr th {\n",
       "        vertical-align: top;\n",
       "    }\n",
       "\n",
       "    .dataframe thead th {\n",
       "        text-align: right;\n",
       "    }\n",
       "</style>\n",
       "<table border=\"1\" class=\"dataframe\">\n",
       "  <thead>\n",
       "    <tr style=\"text-align: right;\">\n",
       "      <th></th>\n",
       "      <th>MMM-YY</th>\n",
       "      <th>Driver_ID</th>\n",
       "      <th>Age</th>\n",
       "      <th>Gender</th>\n",
       "      <th>City</th>\n",
       "      <th>Education_Level</th>\n",
       "      <th>Income</th>\n",
       "      <th>Dateofjoining</th>\n",
       "      <th>LastWorkingDate</th>\n",
       "      <th>Joining Designation</th>\n",
       "      <th>Grade</th>\n",
       "      <th>Total Business Value_x</th>\n",
       "      <th>Quarterly Rating</th>\n",
       "      <th>Increment Rating</th>\n",
       "      <th>Target</th>\n",
       "      <th>Increment Income</th>\n",
       "      <th>Total Business Value_y</th>\n",
       "    </tr>\n",
       "  </thead>\n",
       "  <tbody>\n",
       "    <tr>\n",
       "      <th>1</th>\n",
       "      <td>2020-12-01</td>\n",
       "      <td>2</td>\n",
       "      <td>31.0</td>\n",
       "      <td>0.0</td>\n",
       "      <td>C7</td>\n",
       "      <td>2</td>\n",
       "      <td>67016</td>\n",
       "      <td>2020-11-06</td>\n",
       "      <td>NaT</td>\n",
       "      <td>2</td>\n",
       "      <td>2</td>\n",
       "      <td>350000.0</td>\n",
       "      <td>1</td>\n",
       "      <td>0</td>\n",
       "      <td>0</td>\n",
       "      <td>0</td>\n",
       "      <td>350000.0</td>\n",
       "    </tr>\n",
       "    <tr>\n",
       "      <th>4</th>\n",
       "      <td>2020-12-01</td>\n",
       "      <td>6</td>\n",
       "      <td>31.0</td>\n",
       "      <td>1.0</td>\n",
       "      <td>C11</td>\n",
       "      <td>1</td>\n",
       "      <td>78728</td>\n",
       "      <td>2020-07-31</td>\n",
       "      <td>NaT</td>\n",
       "      <td>3</td>\n",
       "      <td>3</td>\n",
       "      <td>1017640.0</td>\n",
       "      <td>2</td>\n",
       "      <td>1</td>\n",
       "      <td>0</td>\n",
       "      <td>0</td>\n",
       "      <td>11577480.0</td>\n",
       "    </tr>\n",
       "    <tr>\n",
       "      <th>6</th>\n",
       "      <td>2020-12-01</td>\n",
       "      <td>11</td>\n",
       "      <td>28.0</td>\n",
       "      <td>1.0</td>\n",
       "      <td>C19</td>\n",
       "      <td>2</td>\n",
       "      <td>42172</td>\n",
       "      <td>2020-12-07</td>\n",
       "      <td>NaT</td>\n",
       "      <td>1</td>\n",
       "      <td>1</td>\n",
       "      <td>6962550.0</td>\n",
       "      <td>1</td>\n",
       "      <td>0</td>\n",
       "      <td>0</td>\n",
       "      <td>0</td>\n",
       "      <td>6962550.0</td>\n",
       "    </tr>\n",
       "    <tr>\n",
       "      <th>9</th>\n",
       "      <td>2020-12-01</td>\n",
       "      <td>14</td>\n",
       "      <td>39.0</td>\n",
       "      <td>1.0</td>\n",
       "      <td>C26</td>\n",
       "      <td>0</td>\n",
       "      <td>19734</td>\n",
       "      <td>2020-10-16</td>\n",
       "      <td>NaT</td>\n",
       "      <td>3</td>\n",
       "      <td>3</td>\n",
       "      <td>NaN</td>\n",
       "      <td>1</td>\n",
       "      <td>0</td>\n",
       "      <td>0</td>\n",
       "      <td>0</td>\n",
       "      <td>5042600.0</td>\n",
       "    </tr>\n",
       "    <tr>\n",
       "      <th>17</th>\n",
       "      <td>2020-12-01</td>\n",
       "      <td>25</td>\n",
       "      <td>31.0</td>\n",
       "      <td>0.0</td>\n",
       "      <td>C24</td>\n",
       "      <td>1</td>\n",
       "      <td>102077</td>\n",
       "      <td>2017-10-30</td>\n",
       "      <td>NaT</td>\n",
       "      <td>1</td>\n",
       "      <td>3</td>\n",
       "      <td>6570070.0</td>\n",
       "      <td>4</td>\n",
       "      <td>1</td>\n",
       "      <td>0</td>\n",
       "      <td>0</td>\n",
       "      <td>73731440.0</td>\n",
       "    </tr>\n",
       "    <tr>\n",
       "      <th>...</th>\n",
       "      <td>...</td>\n",
       "      <td>...</td>\n",
       "      <td>...</td>\n",
       "      <td>...</td>\n",
       "      <td>...</td>\n",
       "      <td>...</td>\n",
       "      <td>...</td>\n",
       "      <td>...</td>\n",
       "      <td>...</td>\n",
       "      <td>...</td>\n",
       "      <td>...</td>\n",
       "      <td>...</td>\n",
       "      <td>...</td>\n",
       "      <td>...</td>\n",
       "      <td>...</td>\n",
       "      <td>...</td>\n",
       "      <td>...</td>\n",
       "    </tr>\n",
       "    <tr>\n",
       "      <th>2370</th>\n",
       "      <td>2020-12-01</td>\n",
       "      <td>2775</td>\n",
       "      <td>27.0</td>\n",
       "      <td>0.0</td>\n",
       "      <td>C9</td>\n",
       "      <td>0</td>\n",
       "      <td>85112</td>\n",
       "      <td>2020-10-02</td>\n",
       "      <td>NaT</td>\n",
       "      <td>3</td>\n",
       "      <td>3</td>\n",
       "      <td>NaN</td>\n",
       "      <td>1</td>\n",
       "      <td>0</td>\n",
       "      <td>0</td>\n",
       "      <td>0</td>\n",
       "      <td>0.0</td>\n",
       "    </tr>\n",
       "    <tr>\n",
       "      <th>2372</th>\n",
       "      <td>2020-12-01</td>\n",
       "      <td>2778</td>\n",
       "      <td>35.0</td>\n",
       "      <td>0.0</td>\n",
       "      <td>C13</td>\n",
       "      <td>2</td>\n",
       "      <td>50180</td>\n",
       "      <td>2020-11-29</td>\n",
       "      <td>NaT</td>\n",
       "      <td>2</td>\n",
       "      <td>2</td>\n",
       "      <td>NaN</td>\n",
       "      <td>1</td>\n",
       "      <td>0</td>\n",
       "      <td>0</td>\n",
       "      <td>0</td>\n",
       "      <td>0.0</td>\n",
       "    </tr>\n",
       "    <tr>\n",
       "      <th>2374</th>\n",
       "      <td>2020-12-01</td>\n",
       "      <td>2781</td>\n",
       "      <td>25.0</td>\n",
       "      <td>0.0</td>\n",
       "      <td>C23</td>\n",
       "      <td>2</td>\n",
       "      <td>46952</td>\n",
       "      <td>2020-02-17</td>\n",
       "      <td>NaT</td>\n",
       "      <td>2</td>\n",
       "      <td>2</td>\n",
       "      <td>NaN</td>\n",
       "      <td>4</td>\n",
       "      <td>1</td>\n",
       "      <td>0</td>\n",
       "      <td>0</td>\n",
       "      <td>0.0</td>\n",
       "    </tr>\n",
       "    <tr>\n",
       "      <th>2376</th>\n",
       "      <td>2020-12-01</td>\n",
       "      <td>2784</td>\n",
       "      <td>34.0</td>\n",
       "      <td>0.0</td>\n",
       "      <td>C24</td>\n",
       "      <td>0</td>\n",
       "      <td>82815</td>\n",
       "      <td>2015-10-15</td>\n",
       "      <td>NaT</td>\n",
       "      <td>2</td>\n",
       "      <td>3</td>\n",
       "      <td>NaN</td>\n",
       "      <td>4</td>\n",
       "      <td>1</td>\n",
       "      <td>0</td>\n",
       "      <td>0</td>\n",
       "      <td>0.0</td>\n",
       "    </tr>\n",
       "    <tr>\n",
       "      <th>2380</th>\n",
       "      <td>2020-12-01</td>\n",
       "      <td>2788</td>\n",
       "      <td>30.0</td>\n",
       "      <td>0.0</td>\n",
       "      <td>C27</td>\n",
       "      <td>2</td>\n",
       "      <td>70254</td>\n",
       "      <td>2020-06-08</td>\n",
       "      <td>NaT</td>\n",
       "      <td>2</td>\n",
       "      <td>2</td>\n",
       "      <td>NaN</td>\n",
       "      <td>2</td>\n",
       "      <td>1</td>\n",
       "      <td>0</td>\n",
       "      <td>0</td>\n",
       "      <td>0.0</td>\n",
       "    </tr>\n",
       "  </tbody>\n",
       "</table>\n",
       "<p>765 rows × 17 columns</p>\n",
       "</div>"
      ],
      "text/plain": [
       "         MMM-YY  Driver_ID   Age  Gender City  Education_Level  Income  \\\n",
       "1    2020-12-01          2  31.0     0.0   C7                2   67016   \n",
       "4    2020-12-01          6  31.0     1.0  C11                1   78728   \n",
       "6    2020-12-01         11  28.0     1.0  C19                2   42172   \n",
       "9    2020-12-01         14  39.0     1.0  C26                0   19734   \n",
       "17   2020-12-01         25  31.0     0.0  C24                1  102077   \n",
       "...         ...        ...   ...     ...  ...              ...     ...   \n",
       "2370 2020-12-01       2775  27.0     0.0   C9                0   85112   \n",
       "2372 2020-12-01       2778  35.0     0.0  C13                2   50180   \n",
       "2374 2020-12-01       2781  25.0     0.0  C23                2   46952   \n",
       "2376 2020-12-01       2784  34.0     0.0  C24                0   82815   \n",
       "2380 2020-12-01       2788  30.0     0.0  C27                2   70254   \n",
       "\n",
       "     Dateofjoining LastWorkingDate  Joining Designation  Grade  \\\n",
       "1       2020-11-06             NaT                    2      2   \n",
       "4       2020-07-31             NaT                    3      3   \n",
       "6       2020-12-07             NaT                    1      1   \n",
       "9       2020-10-16             NaT                    3      3   \n",
       "17      2017-10-30             NaT                    1      3   \n",
       "...            ...             ...                  ...    ...   \n",
       "2370    2020-10-02             NaT                    3      3   \n",
       "2372    2020-11-29             NaT                    2      2   \n",
       "2374    2020-02-17             NaT                    2      2   \n",
       "2376    2015-10-15             NaT                    2      3   \n",
       "2380    2020-06-08             NaT                    2      2   \n",
       "\n",
       "      Total Business Value_x  Quarterly Rating  Increment Rating  Target  \\\n",
       "1                   350000.0                 1                 0       0   \n",
       "4                  1017640.0                 2                 1       0   \n",
       "6                  6962550.0                 1                 0       0   \n",
       "9                        NaN                 1                 0       0   \n",
       "17                 6570070.0                 4                 1       0   \n",
       "...                      ...               ...               ...     ...   \n",
       "2370                     NaN                 1                 0       0   \n",
       "2372                     NaN                 1                 0       0   \n",
       "2374                     NaN                 4                 1       0   \n",
       "2376                     NaN                 4                 1       0   \n",
       "2380                     NaN                 2                 1       0   \n",
       "\n",
       "      Increment Income  Total Business Value_y  \n",
       "1                    0                350000.0  \n",
       "4                    0              11577480.0  \n",
       "6                    0               6962550.0  \n",
       "9                    0               5042600.0  \n",
       "17                   0              73731440.0  \n",
       "...                ...                     ...  \n",
       "2370                 0                     0.0  \n",
       "2372                 0                     0.0  \n",
       "2374                 0                     0.0  \n",
       "2376                 0                     0.0  \n",
       "2380                 0                     0.0  \n",
       "\n",
       "[765 rows x 17 columns]"
      ]
     },
     "execution_count": 448,
     "metadata": {},
     "output_type": "execute_result"
    }
   ],
   "source": [
    "df[df['Target']==0]"
   ]
  },
  {
   "cell_type": "code",
   "execution_count": 449,
   "id": "7fa09291",
   "metadata": {},
   "outputs": [
    {
     "data": {
      "text/plain": [
       "1    1616\n",
       "0     765\n",
       "Name: Target, dtype: int64"
      ]
     },
     "execution_count": 449,
     "metadata": {},
     "output_type": "execute_result"
    }
   ],
   "source": [
    "df['Target'].value_counts()"
   ]
  },
  {
   "cell_type": "code",
   "execution_count": 450,
   "id": "683ba39a",
   "metadata": {},
   "outputs": [],
   "source": [
    "df.drop(['Total Business Value_x'],axis=1,inplace=True)"
   ]
  },
  {
   "cell_type": "code",
   "execution_count": 451,
   "id": "3d086852",
   "metadata": {},
   "outputs": [],
   "source": [
    "df.rename(columns ={'Total Business Value_y':'Cumulative Business value'},inplace=True)"
   ]
  },
  {
   "cell_type": "code",
   "execution_count": 452,
   "id": "3c79d482",
   "metadata": {},
   "outputs": [
    {
     "data": {
      "text/plain": [
       "MMM-YY                         0\n",
       "Driver_ID                      0\n",
       "Age                            7\n",
       "Gender                        10\n",
       "City                           0\n",
       "Education_Level                0\n",
       "Income                         0\n",
       "Dateofjoining                  0\n",
       "LastWorkingDate              765\n",
       "Joining Designation            0\n",
       "Grade                          0\n",
       "Quarterly Rating               0\n",
       "Increment Rating               0\n",
       "Target                         0\n",
       "Increment Income               0\n",
       "Cumulative Business value      0\n",
       "dtype: int64"
      ]
     },
     "execution_count": 452,
     "metadata": {},
     "output_type": "execute_result"
    }
   ],
   "source": [
    "df.isnull().sum()"
   ]
  },
  {
   "cell_type": "markdown",
   "id": "5e934d6f",
   "metadata": {},
   "source": [
    "## Univariate And Bivariate Analysis"
   ]
  },
  {
   "cell_type": "code",
   "execution_count": 453,
   "id": "c918a8ae",
   "metadata": {},
   "outputs": [
    {
     "name": "stderr",
     "output_type": "stream",
     "text": [
      "/opt/anaconda3/lib/python3.9/site-packages/seaborn/_decorators.py:36: FutureWarning: Pass the following variable as a keyword arg: x. From version 0.12, the only valid positional argument will be `data`, and passing other arguments without an explicit keyword will result in an error or misinterpretation.\n",
      "  warnings.warn(\n"
     ]
    },
    {
     "data": {
      "image/png": "[encoded data removed]",
      "text/plain": [
       "<Figure size 432x288 with 1 Axes>"
      ]
     },
     "metadata": {
      "needs_background": "light"
     },
     "output_type": "display_data"
    }
   ],
   "source": [
    "sns.countplot(df['Gender'],hue=df['Target'])\n",
    "plt.show()"
   ]
  },
  {
   "cell_type": "code",
   "execution_count": 454,
   "id": "ff96974f",
   "metadata": {},
   "outputs": [
    {
     "data": {
      "text/plain": [
       "<AxesSubplot:xlabel='Age', ylabel='Density'>"
      ]
     },
     "execution_count": 454,
     "metadata": {},
     "output_type": "execute_result"
    },
    {
     "data": {
      "image/png": "[encoded data removed]",
      "text/plain": [
       "<Figure size 432x288 with 1 Axes>"
      ]
     },
     "metadata": {
      "needs_background": "light"
     },
     "output_type": "display_data"
    }
   ],
   "source": [
    "sns.kdeplot(df['Age'])"
   ]
  },
  {
   "cell_type": "code",
   "execution_count": 455,
   "id": "9ed7fc9f",
   "metadata": {},
   "outputs": [
    {
     "name": "stderr",
     "output_type": "stream",
     "text": [
      "/opt/anaconda3/lib/python3.9/site-packages/seaborn/_decorators.py:36: FutureWarning: Pass the following variable as a keyword arg: x. From version 0.12, the only valid positional argument will be `data`, and passing other arguments without an explicit keyword will result in an error or misinterpretation.\n",
      "  warnings.warn(\n"
     ]
    },
    {
     "data": {
      "image/png": "[encoded data removed]",
      "text/plain": [
       "<Figure size 432x288 with 1 Axes>"
      ]
     },
     "metadata": {
      "needs_background": "light"
     },
     "output_type": "display_data"
    }
   ],
   "source": [
    "sns.countplot(df['Education_Level'],hue=df['Target'])\n",
    "plt.show()"
   ]
  },
  {
   "cell_type": "code",
   "execution_count": 456,
   "id": "9ad2984f",
   "metadata": {},
   "outputs": [
    {
     "data": {
      "image/png": "[encoded data removed]",
      "text/plain": [
       "<Figure size 432x288 with 1 Axes>"
      ]
     },
     "metadata": {
      "needs_background": "light"
     },
     "output_type": "display_data"
    }
   ],
   "source": [
    "sns.kdeplot(df['Income'],hue=df['Target'])\n",
    "plt.show()"
   ]
  },
  {
   "cell_type": "code",
   "execution_count": 457,
   "id": "8ee63515",
   "metadata": {},
   "outputs": [
    {
     "name": "stderr",
     "output_type": "stream",
     "text": [
      "/opt/anaconda3/lib/python3.9/site-packages/seaborn/_decorators.py:36: FutureWarning: Pass the following variable as a keyword arg: x. From version 0.12, the only valid positional argument will be `data`, and passing other arguments without an explicit keyword will result in an error or misinterpretation.\n",
      "  warnings.warn(\n"
     ]
    },
    {
     "data": {
      "image/png": "[encoded data removed]",
      "text/plain": [
       "<Figure size 432x288 with 1 Axes>"
      ]
     },
     "metadata": {
      "needs_background": "light"
     },
     "output_type": "display_data"
    }
   ],
   "source": [
    "sns.countplot(df['Joining Designation'],hue=df['Target'])\n",
    "plt.show()"
   ]
  },
  {
   "cell_type": "code",
   "execution_count": 458,
   "id": "8e2e2a9b",
   "metadata": {},
   "outputs": [
    {
     "name": "stderr",
     "output_type": "stream",
     "text": [
      "/opt/anaconda3/lib/python3.9/site-packages/seaborn/_decorators.py:36: FutureWarning: Pass the following variable as a keyword arg: x. From version 0.12, the only valid positional argument will be `data`, and passing other arguments without an explicit keyword will result in an error or misinterpretation.\n",
      "  warnings.warn(\n"
     ]
    },
    {
     "data": {
      "image/png": "[encoded data removed]",
      "text/plain": [
       "<Figure size 432x288 with 1 Axes>"
      ]
     },
     "metadata": {
      "needs_background": "light"
     },
     "output_type": "display_data"
    }
   ],
   "source": [
    "sns.countplot(df['Grade'],hue=df['Target'])\n",
    "plt.show()"
   ]
  },
  {
   "cell_type": "code",
   "execution_count": 459,
   "id": "7fab0f53",
   "metadata": {},
   "outputs": [
    {
     "name": "stderr",
     "output_type": "stream",
     "text": [
      "/opt/anaconda3/lib/python3.9/site-packages/seaborn/_decorators.py:36: FutureWarning: Pass the following variable as a keyword arg: x. From version 0.12, the only valid positional argument will be `data`, and passing other arguments without an explicit keyword will result in an error or misinterpretation.\n",
      "  warnings.warn(\n"
     ]
    },
    {
     "data": {
      "image/png": "[encoded data removed]",
      "text/plain": [
       "<Figure size 432x288 with 1 Axes>"
      ]
     },
     "metadata": {
      "needs_background": "light"
     },
     "output_type": "display_data"
    }
   ],
   "source": [
    "sns.countplot(df['Increment Rating'],hue=df['Target'])\n",
    "plt.show()"
   ]
  },
  {
   "cell_type": "code",
   "execution_count": 460,
   "id": "f9a24dee",
   "metadata": {},
   "outputs": [
    {
     "name": "stderr",
     "output_type": "stream",
     "text": [
      "/opt/anaconda3/lib/python3.9/site-packages/seaborn/_decorators.py:36: FutureWarning: Pass the following variable as a keyword arg: x. From version 0.12, the only valid positional argument will be `data`, and passing other arguments without an explicit keyword will result in an error or misinterpretation.\n",
      "  warnings.warn(\n"
     ]
    },
    {
     "data": {
      "image/png": "[encoded data removed]",
      "text/plain": [
       "<Figure size 432x288 with 1 Axes>"
      ]
     },
     "metadata": {
      "needs_background": "light"
     },
     "output_type": "display_data"
    }
   ],
   "source": [
    "\n",
    "\n",
    "sns.countplot(df['Increment Income'],hue=df['Target'])\n",
    "plt.show()"
   ]
  },
  {
   "cell_type": "code",
   "execution_count": 461,
   "id": "4c677c78",
   "metadata": {},
   "outputs": [
    {
     "name": "stderr",
     "output_type": "stream",
     "text": [
      "/opt/anaconda3/lib/python3.9/site-packages/seaborn/_decorators.py:36: FutureWarning: Pass the following variable as a keyword arg: x. From version 0.12, the only valid positional argument will be `data`, and passing other arguments without an explicit keyword will result in an error or misinterpretation.\n",
      "  warnings.warn(\n"
     ]
    },
    {
     "data": {
      "image/png": "[encoded data removed]",
      "text/plain": [
       "<Figure size 720x720 with 1 Axes>"
      ]
     },
     "metadata": {
      "needs_background": "light"
     },
     "output_type": "display_data"
    }
   ],
   "source": [
    "plt.figure(figsize=(10,10))\n",
    "sns.countplot(df['City'],hue=df['Target'])\n",
    "plt.xticks(rotation=90)\n",
    "\n",
    "plt.show()"
   ]
  },
  {
   "cell_type": "code",
   "execution_count": 462,
   "id": "0538e3cc",
   "metadata": {},
   "outputs": [
    {
     "data": {
      "text/html": [
       "<div>\n",
       "<style scoped>\n",
       "    .dataframe tbody tr th:only-of-type {\n",
       "        vertical-align: middle;\n",
       "    }\n",
       "\n",
       "    .dataframe tbody tr th {\n",
       "        vertical-align: top;\n",
       "    }\n",
       "\n",
       "    .dataframe thead th {\n",
       "        text-align: right;\n",
       "    }\n",
       "</style>\n",
       "<table border=\"1\" class=\"dataframe\">\n",
       "  <thead>\n",
       "    <tr style=\"text-align: right;\">\n",
       "      <th></th>\n",
       "      <th>MMM-YY</th>\n",
       "      <th>Driver_ID</th>\n",
       "      <th>Age</th>\n",
       "      <th>Gender</th>\n",
       "      <th>City</th>\n",
       "      <th>Education_Level</th>\n",
       "      <th>Income</th>\n",
       "      <th>Dateofjoining</th>\n",
       "      <th>LastWorkingDate</th>\n",
       "      <th>Joining Designation</th>\n",
       "      <th>Grade</th>\n",
       "      <th>Quarterly Rating</th>\n",
       "      <th>Increment Rating</th>\n",
       "      <th>Target</th>\n",
       "      <th>Increment Income</th>\n",
       "      <th>Cumulative Business value</th>\n",
       "    </tr>\n",
       "  </thead>\n",
       "  <tbody>\n",
       "    <tr>\n",
       "      <th>0</th>\n",
       "      <td>2019-03-01</td>\n",
       "      <td>1</td>\n",
       "      <td>28.0</td>\n",
       "      <td>0.0</td>\n",
       "      <td>C23</td>\n",
       "      <td>2</td>\n",
       "      <td>57387</td>\n",
       "      <td>2018-12-24</td>\n",
       "      <td>2019-03-11</td>\n",
       "      <td>1</td>\n",
       "      <td>1</td>\n",
       "      <td>2</td>\n",
       "      <td>0</td>\n",
       "      <td>1</td>\n",
       "      <td>0</td>\n",
       "      <td>1715580.0</td>\n",
       "    </tr>\n",
       "    <tr>\n",
       "      <th>1</th>\n",
       "      <td>2020-12-01</td>\n",
       "      <td>2</td>\n",
       "      <td>31.0</td>\n",
       "      <td>0.0</td>\n",
       "      <td>C7</td>\n",
       "      <td>2</td>\n",
       "      <td>67016</td>\n",
       "      <td>2020-11-06</td>\n",
       "      <td>NaT</td>\n",
       "      <td>2</td>\n",
       "      <td>2</td>\n",
       "      <td>1</td>\n",
       "      <td>0</td>\n",
       "      <td>0</td>\n",
       "      <td>0</td>\n",
       "      <td>350000.0</td>\n",
       "    </tr>\n",
       "    <tr>\n",
       "      <th>2</th>\n",
       "      <td>2020-04-01</td>\n",
       "      <td>4</td>\n",
       "      <td>43.0</td>\n",
       "      <td>0.0</td>\n",
       "      <td>C13</td>\n",
       "      <td>2</td>\n",
       "      <td>65603</td>\n",
       "      <td>2019-12-07</td>\n",
       "      <td>2020-04-27</td>\n",
       "      <td>2</td>\n",
       "      <td>2</td>\n",
       "      <td>1</td>\n",
       "      <td>0</td>\n",
       "      <td>1</td>\n",
       "      <td>0</td>\n",
       "      <td>1385360.0</td>\n",
       "    </tr>\n",
       "    <tr>\n",
       "      <th>3</th>\n",
       "      <td>2019-03-01</td>\n",
       "      <td>5</td>\n",
       "      <td>29.0</td>\n",
       "      <td>0.0</td>\n",
       "      <td>C9</td>\n",
       "      <td>0</td>\n",
       "      <td>46368</td>\n",
       "      <td>2019-01-09</td>\n",
       "      <td>2019-03-07</td>\n",
       "      <td>1</td>\n",
       "      <td>1</td>\n",
       "      <td>1</td>\n",
       "      <td>0</td>\n",
       "      <td>1</td>\n",
       "      <td>0</td>\n",
       "      <td>2607180.0</td>\n",
       "    </tr>\n",
       "    <tr>\n",
       "      <th>4</th>\n",
       "      <td>2020-12-01</td>\n",
       "      <td>6</td>\n",
       "      <td>31.0</td>\n",
       "      <td>1.0</td>\n",
       "      <td>C11</td>\n",
       "      <td>1</td>\n",
       "      <td>78728</td>\n",
       "      <td>2020-07-31</td>\n",
       "      <td>NaT</td>\n",
       "      <td>3</td>\n",
       "      <td>3</td>\n",
       "      <td>2</td>\n",
       "      <td>1</td>\n",
       "      <td>0</td>\n",
       "      <td>0</td>\n",
       "      <td>11577480.0</td>\n",
       "    </tr>\n",
       "    <tr>\n",
       "      <th>...</th>\n",
       "      <td>...</td>\n",
       "      <td>...</td>\n",
       "      <td>...</td>\n",
       "      <td>...</td>\n",
       "      <td>...</td>\n",
       "      <td>...</td>\n",
       "      <td>...</td>\n",
       "      <td>...</td>\n",
       "      <td>...</td>\n",
       "      <td>...</td>\n",
       "      <td>...</td>\n",
       "      <td>...</td>\n",
       "      <td>...</td>\n",
       "      <td>...</td>\n",
       "      <td>...</td>\n",
       "      <td>...</td>\n",
       "    </tr>\n",
       "    <tr>\n",
       "      <th>2376</th>\n",
       "      <td>2020-12-01</td>\n",
       "      <td>2784</td>\n",
       "      <td>34.0</td>\n",
       "      <td>0.0</td>\n",
       "      <td>C24</td>\n",
       "      <td>0</td>\n",
       "      <td>82815</td>\n",
       "      <td>2015-10-15</td>\n",
       "      <td>NaT</td>\n",
       "      <td>2</td>\n",
       "      <td>3</td>\n",
       "      <td>4</td>\n",
       "      <td>1</td>\n",
       "      <td>0</td>\n",
       "      <td>0</td>\n",
       "      <td>0.0</td>\n",
       "    </tr>\n",
       "    <tr>\n",
       "      <th>2377</th>\n",
       "      <td>2020-10-01</td>\n",
       "      <td>2785</td>\n",
       "      <td>34.0</td>\n",
       "      <td>1.0</td>\n",
       "      <td>C9</td>\n",
       "      <td>0</td>\n",
       "      <td>12105</td>\n",
       "      <td>2020-08-28</td>\n",
       "      <td>2020-10-28</td>\n",
       "      <td>1</td>\n",
       "      <td>1</td>\n",
       "      <td>1</td>\n",
       "      <td>0</td>\n",
       "      <td>1</td>\n",
       "      <td>0</td>\n",
       "      <td>0.0</td>\n",
       "    </tr>\n",
       "    <tr>\n",
       "      <th>2378</th>\n",
       "      <td>2019-09-01</td>\n",
       "      <td>2786</td>\n",
       "      <td>45.0</td>\n",
       "      <td>0.0</td>\n",
       "      <td>C19</td>\n",
       "      <td>0</td>\n",
       "      <td>35370</td>\n",
       "      <td>2018-07-31</td>\n",
       "      <td>2019-09-22</td>\n",
       "      <td>2</td>\n",
       "      <td>2</td>\n",
       "      <td>1</td>\n",
       "      <td>0</td>\n",
       "      <td>1</td>\n",
       "      <td>0</td>\n",
       "      <td>0.0</td>\n",
       "    </tr>\n",
       "    <tr>\n",
       "      <th>2379</th>\n",
       "      <td>2019-06-01</td>\n",
       "      <td>2787</td>\n",
       "      <td>28.0</td>\n",
       "      <td>1.0</td>\n",
       "      <td>C20</td>\n",
       "      <td>2</td>\n",
       "      <td>69498</td>\n",
       "      <td>2018-07-21</td>\n",
       "      <td>2019-06-20</td>\n",
       "      <td>1</td>\n",
       "      <td>1</td>\n",
       "      <td>1</td>\n",
       "      <td>0</td>\n",
       "      <td>1</td>\n",
       "      <td>0</td>\n",
       "      <td>0.0</td>\n",
       "    </tr>\n",
       "    <tr>\n",
       "      <th>2380</th>\n",
       "      <td>2020-12-01</td>\n",
       "      <td>2788</td>\n",
       "      <td>30.0</td>\n",
       "      <td>0.0</td>\n",
       "      <td>C27</td>\n",
       "      <td>2</td>\n",
       "      <td>70254</td>\n",
       "      <td>2020-06-08</td>\n",
       "      <td>NaT</td>\n",
       "      <td>2</td>\n",
       "      <td>2</td>\n",
       "      <td>2</td>\n",
       "      <td>1</td>\n",
       "      <td>0</td>\n",
       "      <td>0</td>\n",
       "      <td>0.0</td>\n",
       "    </tr>\n",
       "  </tbody>\n",
       "</table>\n",
       "<p>2381 rows × 16 columns</p>\n",
       "</div>"
      ],
      "text/plain": [
       "         MMM-YY  Driver_ID   Age  Gender City  Education_Level  Income  \\\n",
       "0    2019-03-01          1  28.0     0.0  C23                2   57387   \n",
       "1    2020-12-01          2  31.0     0.0   C7                2   67016   \n",
       "2    2020-04-01          4  43.0     0.0  C13                2   65603   \n",
       "3    2019-03-01          5  29.0     0.0   C9                0   46368   \n",
       "4    2020-12-01          6  31.0     1.0  C11                1   78728   \n",
       "...         ...        ...   ...     ...  ...              ...     ...   \n",
       "2376 2020-12-01       2784  34.0     0.0  C24                0   82815   \n",
       "2377 2020-10-01       2785  34.0     1.0   C9                0   12105   \n",
       "2378 2019-09-01       2786  45.0     0.0  C19                0   35370   \n",
       "2379 2019-06-01       2787  28.0     1.0  C20                2   69498   \n",
       "2380 2020-12-01       2788  30.0     0.0  C27                2   70254   \n",
       "\n",
       "     Dateofjoining LastWorkingDate  Joining Designation  Grade  \\\n",
       "0       2018-12-24      2019-03-11                    1      1   \n",
       "1       2020-11-06             NaT                    2      2   \n",
       "2       2019-12-07      2020-04-27                    2      2   \n",
       "3       2019-01-09      2019-03-07                    1      1   \n",
       "4       2020-07-31             NaT                    3      3   \n",
       "...            ...             ...                  ...    ...   \n",
       "2376    2015-10-15             NaT                    2      3   \n",
       "2377    2020-08-28      2020-10-28                    1      1   \n",
       "2378    2018-07-31      2019-09-22                    2      2   \n",
       "2379    2018-07-21      2019-06-20                    1      1   \n",
       "2380    2020-06-08             NaT                    2      2   \n",
       "\n",
       "      Quarterly Rating  Increment Rating  Target  Increment Income  \\\n",
       "0                    2                 0       1                 0   \n",
       "1                    1                 0       0                 0   \n",
       "2                    1                 0       1                 0   \n",
       "3                    1                 0       1                 0   \n",
       "4                    2                 1       0                 0   \n",
       "...                ...               ...     ...               ...   \n",
       "2376                 4                 1       0                 0   \n",
       "2377                 1                 0       1                 0   \n",
       "2378                 1                 0       1                 0   \n",
       "2379                 1                 0       1                 0   \n",
       "2380                 2                 1       0                 0   \n",
       "\n",
       "      Cumulative Business value  \n",
       "0                     1715580.0  \n",
       "1                      350000.0  \n",
       "2                     1385360.0  \n",
       "3                     2607180.0  \n",
       "4                    11577480.0  \n",
       "...                         ...  \n",
       "2376                        0.0  \n",
       "2377                        0.0  \n",
       "2378                        0.0  \n",
       "2379                        0.0  \n",
       "2380                        0.0  \n",
       "\n",
       "[2381 rows x 16 columns]"
      ]
     },
     "execution_count": 462,
     "metadata": {},
     "output_type": "execute_result"
    }
   ],
   "source": [
    "df"
   ]
  },
  {
   "cell_type": "code",
   "execution_count": 463,
   "id": "f541ed92",
   "metadata": {},
   "outputs": [
    {
     "data": {
      "image/png": "[encoded data removed]",
      "text/plain": [
       "<Figure size 432x288 with 1 Axes>"
      ]
     },
     "metadata": {
      "needs_background": "light"
     },
     "output_type": "display_data"
    }
   ],
   "source": [
    "sns.kdeplot(df['Cumulative Business value'],hue=df['Target'])\n",
    "plt.show()"
   ]
  },
  {
   "cell_type": "code",
   "execution_count": 464,
   "id": "b34a8f77",
   "metadata": {},
   "outputs": [
    {
     "data": {
      "image/png": "[encoded data removed]",
      "text/plain": [
       "<Figure size 720x720 with 2 Axes>"
      ]
     },
     "metadata": {
      "needs_background": "light"
     },
     "output_type": "display_data"
    }
   ],
   "source": [
    "plt.figure(figsize=(10,10))\n",
    "sns.heatmap(df.corr(),annot=True)\n",
    "plt.show()"
   ]
  },
  {
   "cell_type": "markdown",
   "id": "1604273d",
   "metadata": {},
   "source": [
    "<div class=\"alert alert-block alert-info\">\n",
    "<b>Comments:</b>  \n",
    "    \n",
    "- City C20 has the highest churn ratio. Most of the drivers are leaving from this city.</br>\n",
    "- People with no increment in income are more likely to leave in comparison to people to get an increment..</br>\n",
    "- Drivers with no increment in rating are more likely to leave..</br>\n",
    "- Riders with Grade 1 or 2 are more likely to leave..</br>\n",
    "- Riders with joining designation as 1 or 2 are more likely to leave..</br>\n",
    "- Riders with an average income of around 50,000 are more likely to leave..</br>\n",
    "</div>"
   ]
  },
  {
   "cell_type": "code",
   "execution_count": 465,
   "id": "e17d869e",
   "metadata": {},
   "outputs": [],
   "source": [
    "df.drop(['MMM-YY'],axis=1,inplace=True)"
   ]
  },
  {
   "cell_type": "code",
   "execution_count": 466,
   "id": "0d45fc84",
   "metadata": {},
   "outputs": [
    {
     "data": {
      "text/plain": [
       "Driver_ID                                    288\n",
       "Age                                         41.0\n",
       "Gender                                       1.0\n",
       "City                                         C17\n",
       "Education_Level                                0\n",
       "Income                                     62901\n",
       "Dateofjoining                2020-12-18 00:00:00\n",
       "LastWorkingDate                              NaT\n",
       "Joining Designation                            2\n",
       "Grade                                          2\n",
       "Quarterly Rating                               1\n",
       "Increment Rating                               0\n",
       "Target                                         0\n",
       "Increment Income                               0\n",
       "Cumulative Business value              3980110.0\n",
       "Name: 241, dtype: object"
      ]
     },
     "execution_count": 466,
     "metadata": {},
     "output_type": "execute_result"
    }
   ],
   "source": [
    "df.loc[241]"
   ]
  },
  {
   "cell_type": "code",
   "execution_count": 467,
   "id": "85ffbf0d",
   "metadata": {},
   "outputs": [
    {
     "data": {
      "text/plain": [
       "1    1616\n",
       "0     765\n",
       "Name: Target, dtype: int64"
      ]
     },
     "execution_count": 467,
     "metadata": {},
     "output_type": "execute_result"
    }
   ],
   "source": [
    "df['Target'].value_counts()"
   ]
  },
  {
   "cell_type": "code",
   "execution_count": 468,
   "id": "a0e7e5a1",
   "metadata": {},
   "outputs": [],
   "source": [
    "df['tenure'] = (df['LastWorkingDate'] - df['Dateofjoining']).dt.days"
   ]
  },
  {
   "cell_type": "code",
   "execution_count": 469,
   "id": "a7be8a08",
   "metadata": {},
   "outputs": [],
   "source": [
    "bins = [0, 500, 3000]\n",
    "labels = ['low','medium']\n",
    "df['tenure'] = pd.cut(x = df['tenure'], bins = bins, labels = labels, include_lowest = True)"
   ]
  },
  {
   "cell_type": "code",
   "execution_count": 470,
   "id": "84be30d8",
   "metadata": {},
   "outputs": [],
   "source": [
    "df['tenure'] = df['tenure'].astype('string')\n",
    "df['tenure'] = df['tenure'].fillna('high')\n"
   ]
  },
  {
   "cell_type": "code",
   "execution_count": 471,
   "id": "fb868d5c",
   "metadata": {},
   "outputs": [],
   "source": [
    "df['tenure'] = df['tenure'].replace({'low':0,'medium':1,'high':2})"
   ]
  },
  {
   "cell_type": "code",
   "execution_count": 472,
   "id": "7f982394",
   "metadata": {},
   "outputs": [],
   "source": [
    "df.drop(['Dateofjoining','LastWorkingDate'],axis=1,inplace=True)"
   ]
  },
  {
   "cell_type": "code",
   "execution_count": 473,
   "id": "bf7277ab",
   "metadata": {},
   "outputs": [],
   "source": [
    "df.drop(['Driver_ID'],axis=1,inplace=True)"
   ]
  },
  {
   "cell_type": "code",
   "execution_count": 474,
   "id": "334b5033",
   "metadata": {},
   "outputs": [
    {
     "data": {
      "text/plain": [
       "0       0\n",
       "1       2\n",
       "2       0\n",
       "3       0\n",
       "4       2\n",
       "       ..\n",
       "2376    2\n",
       "2377    0\n",
       "2378    0\n",
       "2379    0\n",
       "2380    2\n",
       "Name: tenure, Length: 2381, dtype: int64"
      ]
     },
     "execution_count": 474,
     "metadata": {},
     "output_type": "execute_result"
    }
   ],
   "source": [
    "df['tenure']"
   ]
  },
  {
   "cell_type": "code",
   "execution_count": 475,
   "id": "296bc24b",
   "metadata": {},
   "outputs": [],
   "source": [
    "columns = df[['City','Income','Cumulative Business value']]\n",
    "df.drop(['City','Income','Cumulative Business value'],axis=1,inplace=True)\n",
    "df_columns = df.columns"
   ]
  },
  {
   "cell_type": "code",
   "execution_count": 476,
   "id": "6dfe68d3",
   "metadata": {},
   "outputs": [
    {
     "name": "stdout",
     "output_type": "stream",
     "text": [
      "<class 'pandas.core.frame.DataFrame'>\n",
      "Int64Index: 2381 entries, 0 to 2380\n",
      "Data columns (total 10 columns):\n",
      " #   Column               Non-Null Count  Dtype  \n",
      "---  ------               --------------  -----  \n",
      " 0   Age                  2374 non-null   float64\n",
      " 1   Gender               2371 non-null   float64\n",
      " 2   Education_Level      2381 non-null   int64  \n",
      " 3   Joining Designation  2381 non-null   int64  \n",
      " 4   Grade                2381 non-null   int64  \n",
      " 5   Quarterly Rating     2381 non-null   int64  \n",
      " 6   Increment Rating     2381 non-null   int64  \n",
      " 7   Target               2381 non-null   int64  \n",
      " 8   Increment Income     2381 non-null   int64  \n",
      " 9   tenure               2381 non-null   int64  \n",
      "dtypes: float64(2), int64(8)\n",
      "memory usage: 269.2 KB\n"
     ]
    }
   ],
   "source": [
    "df.info()"
   ]
  },
  {
   "cell_type": "markdown",
   "id": "0e4c1102",
   "metadata": {},
   "source": [
    "## Imputing age and gender Column"
   ]
  },
  {
   "cell_type": "code",
   "execution_count": 477,
   "id": "cb42d5c5",
   "metadata": {},
   "outputs": [],
   "source": [
    "imputer = KNNImputer(n_neighbors=3)\n",
    "df = imputer.fit_transform(df)"
   ]
  },
  {
   "cell_type": "code",
   "execution_count": 478,
   "id": "2dce4567",
   "metadata": {},
   "outputs": [],
   "source": [
    "df = pd.DataFrame(df,columns=df_columns)"
   ]
  },
  {
   "cell_type": "code",
   "execution_count": 479,
   "id": "086a251a",
   "metadata": {},
   "outputs": [
    {
     "data": {
      "text/plain": [
       "Age                    0\n",
       "Gender                 0\n",
       "Education_Level        0\n",
       "Joining Designation    0\n",
       "Grade                  0\n",
       "Quarterly Rating       0\n",
       "Increment Rating       0\n",
       "Target                 0\n",
       "Increment Income       0\n",
       "tenure                 0\n",
       "dtype: int64"
      ]
     },
     "execution_count": 479,
     "metadata": {},
     "output_type": "execute_result"
    }
   ],
   "source": [
    "df.isnull().sum()"
   ]
  },
  {
   "cell_type": "code",
   "execution_count": 480,
   "id": "e835383b",
   "metadata": {},
   "outputs": [],
   "source": [
    "df = pd.merge(df,columns,left_index=True,right_index=True)"
   ]
  },
  {
   "cell_type": "code",
   "execution_count": 481,
   "id": "d26b0999",
   "metadata": {},
   "outputs": [],
   "source": [
    "df.drop('tenure',axis=1,inplace=True)"
   ]
  },
  {
   "cell_type": "code",
   "execution_count": 482,
   "id": "01f7d968",
   "metadata": {},
   "outputs": [],
   "source": [
    "y = df['Target']\n",
    "X = df.drop('Target',axis=1)\n",
    "X_train,X_test,y_train,y_test = train_test_split(X,y,test_size=0.2,random_state=42,stratify=y)"
   ]
  },
  {
   "cell_type": "code",
   "execution_count": 483,
   "id": "5a64e1ff",
   "metadata": {},
   "outputs": [],
   "source": [
    "enc = TargetEncoder(cols=['City'], min_samples_leaf=20, smoothing=10).fit(X_train, y_train)\n",
    "X_train = enc.transform(X_train)\n",
    "X_test = enc.transform(X_test)"
   ]
  },
  {
   "cell_type": "code",
   "execution_count": 484,
   "id": "d8038ccf",
   "metadata": {},
   "outputs": [
    {
     "data": {
      "text/html": [
       "<div>\n",
       "<style scoped>\n",
       "    .dataframe tbody tr th:only-of-type {\n",
       "        vertical-align: middle;\n",
       "    }\n",
       "\n",
       "    .dataframe tbody tr th {\n",
       "        vertical-align: top;\n",
       "    }\n",
       "\n",
       "    .dataframe thead th {\n",
       "        text-align: right;\n",
       "    }\n",
       "</style>\n",
       "<table border=\"1\" class=\"dataframe\">\n",
       "  <thead>\n",
       "    <tr style=\"text-align: right;\">\n",
       "      <th></th>\n",
       "      <th>Age</th>\n",
       "      <th>Gender</th>\n",
       "      <th>Education_Level</th>\n",
       "      <th>Joining Designation</th>\n",
       "      <th>Grade</th>\n",
       "      <th>Quarterly Rating</th>\n",
       "      <th>Increment Rating</th>\n",
       "      <th>Increment Income</th>\n",
       "      <th>City</th>\n",
       "      <th>Income</th>\n",
       "      <th>Cumulative Business value</th>\n",
       "    </tr>\n",
       "  </thead>\n",
       "  <tbody>\n",
       "    <tr>\n",
       "      <th>2242</th>\n",
       "      <td>34.0</td>\n",
       "      <td>1.0</td>\n",
       "      <td>0.0</td>\n",
       "      <td>3.0</td>\n",
       "      <td>3.0</td>\n",
       "      <td>1.0</td>\n",
       "      <td>0.0</td>\n",
       "      <td>0.0</td>\n",
       "      <td>0.661365</td>\n",
       "      <td>104058</td>\n",
       "      <td>0.0</td>\n",
       "    </tr>\n",
       "    <tr>\n",
       "      <th>1474</th>\n",
       "      <td>42.0</td>\n",
       "      <td>0.0</td>\n",
       "      <td>0.0</td>\n",
       "      <td>1.0</td>\n",
       "      <td>1.0</td>\n",
       "      <td>1.0</td>\n",
       "      <td>0.0</td>\n",
       "      <td>0.0</td>\n",
       "      <td>0.687392</td>\n",
       "      <td>51579</td>\n",
       "      <td>0.0</td>\n",
       "    </tr>\n",
       "    <tr>\n",
       "      <th>2132</th>\n",
       "      <td>27.0</td>\n",
       "      <td>0.0</td>\n",
       "      <td>1.0</td>\n",
       "      <td>2.0</td>\n",
       "      <td>2.0</td>\n",
       "      <td>1.0</td>\n",
       "      <td>0.0</td>\n",
       "      <td>0.0</td>\n",
       "      <td>0.800247</td>\n",
       "      <td>75458</td>\n",
       "      <td>0.0</td>\n",
       "    </tr>\n",
       "    <tr>\n",
       "      <th>1873</th>\n",
       "      <td>35.0</td>\n",
       "      <td>0.0</td>\n",
       "      <td>1.0</td>\n",
       "      <td>1.0</td>\n",
       "      <td>3.0</td>\n",
       "      <td>3.0</td>\n",
       "      <td>1.0</td>\n",
       "      <td>0.0</td>\n",
       "      <td>0.641139</td>\n",
       "      <td>69756</td>\n",
       "      <td>0.0</td>\n",
       "    </tr>\n",
       "    <tr>\n",
       "      <th>462</th>\n",
       "      <td>36.0</td>\n",
       "      <td>0.0</td>\n",
       "      <td>0.0</td>\n",
       "      <td>2.0</td>\n",
       "      <td>3.0</td>\n",
       "      <td>1.0</td>\n",
       "      <td>0.0</td>\n",
       "      <td>0.0</td>\n",
       "      <td>0.684972</td>\n",
       "      <td>109296</td>\n",
       "      <td>0.0</td>\n",
       "    </tr>\n",
       "    <tr>\n",
       "      <th>...</th>\n",
       "      <td>...</td>\n",
       "      <td>...</td>\n",
       "      <td>...</td>\n",
       "      <td>...</td>\n",
       "      <td>...</td>\n",
       "      <td>...</td>\n",
       "      <td>...</td>\n",
       "      <td>...</td>\n",
       "      <td>...</td>\n",
       "      <td>...</td>\n",
       "      <td>...</td>\n",
       "    </tr>\n",
       "    <tr>\n",
       "      <th>1883</th>\n",
       "      <td>39.0</td>\n",
       "      <td>0.0</td>\n",
       "      <td>1.0</td>\n",
       "      <td>1.0</td>\n",
       "      <td>4.0</td>\n",
       "      <td>4.0</td>\n",
       "      <td>1.0</td>\n",
       "      <td>0.0</td>\n",
       "      <td>0.708778</td>\n",
       "      <td>112513</td>\n",
       "      <td>0.0</td>\n",
       "    </tr>\n",
       "    <tr>\n",
       "      <th>1355</th>\n",
       "      <td>27.0</td>\n",
       "      <td>0.0</td>\n",
       "      <td>0.0</td>\n",
       "      <td>2.0</td>\n",
       "      <td>2.0</td>\n",
       "      <td>1.0</td>\n",
       "      <td>0.0</td>\n",
       "      <td>0.0</td>\n",
       "      <td>0.704070</td>\n",
       "      <td>49886</td>\n",
       "      <td>0.0</td>\n",
       "    </tr>\n",
       "    <tr>\n",
       "      <th>2229</th>\n",
       "      <td>39.0</td>\n",
       "      <td>0.0</td>\n",
       "      <td>1.0</td>\n",
       "      <td>1.0</td>\n",
       "      <td>1.0</td>\n",
       "      <td>2.0</td>\n",
       "      <td>0.0</td>\n",
       "      <td>0.0</td>\n",
       "      <td>0.487972</td>\n",
       "      <td>44154</td>\n",
       "      <td>0.0</td>\n",
       "    </tr>\n",
       "    <tr>\n",
       "      <th>2234</th>\n",
       "      <td>28.0</td>\n",
       "      <td>0.0</td>\n",
       "      <td>1.0</td>\n",
       "      <td>1.0</td>\n",
       "      <td>1.0</td>\n",
       "      <td>1.0</td>\n",
       "      <td>0.0</td>\n",
       "      <td>0.0</td>\n",
       "      <td>0.616747</td>\n",
       "      <td>53320</td>\n",
       "      <td>0.0</td>\n",
       "    </tr>\n",
       "    <tr>\n",
       "      <th>855</th>\n",
       "      <td>30.0</td>\n",
       "      <td>1.0</td>\n",
       "      <td>0.0</td>\n",
       "      <td>1.0</td>\n",
       "      <td>1.0</td>\n",
       "      <td>1.0</td>\n",
       "      <td>0.0</td>\n",
       "      <td>0.0</td>\n",
       "      <td>0.586336</td>\n",
       "      <td>58540</td>\n",
       "      <td>0.0</td>\n",
       "    </tr>\n",
       "  </tbody>\n",
       "</table>\n",
       "<p>1904 rows × 11 columns</p>\n",
       "</div>"
      ],
      "text/plain": [
       "       Age  Gender  Education_Level  Joining Designation  Grade  \\\n",
       "2242  34.0     1.0              0.0                  3.0    3.0   \n",
       "1474  42.0     0.0              0.0                  1.0    1.0   \n",
       "2132  27.0     0.0              1.0                  2.0    2.0   \n",
       "1873  35.0     0.0              1.0                  1.0    3.0   \n",
       "462   36.0     0.0              0.0                  2.0    3.0   \n",
       "...    ...     ...              ...                  ...    ...   \n",
       "1883  39.0     0.0              1.0                  1.0    4.0   \n",
       "1355  27.0     0.0              0.0                  2.0    2.0   \n",
       "2229  39.0     0.0              1.0                  1.0    1.0   \n",
       "2234  28.0     0.0              1.0                  1.0    1.0   \n",
       "855   30.0     1.0              0.0                  1.0    1.0   \n",
       "\n",
       "      Quarterly Rating  Increment Rating  Increment Income      City  Income  \\\n",
       "2242               1.0               0.0               0.0  0.661365  104058   \n",
       "1474               1.0               0.0               0.0  0.687392   51579   \n",
       "2132               1.0               0.0               0.0  0.800247   75458   \n",
       "1873               3.0               1.0               0.0  0.641139   69756   \n",
       "462                1.0               0.0               0.0  0.684972  109296   \n",
       "...                ...               ...               ...       ...     ...   \n",
       "1883               4.0               1.0               0.0  0.708778  112513   \n",
       "1355               1.0               0.0               0.0  0.704070   49886   \n",
       "2229               2.0               0.0               0.0  0.487972   44154   \n",
       "2234               1.0               0.0               0.0  0.616747   53320   \n",
       "855                1.0               0.0               0.0  0.586336   58540   \n",
       "\n",
       "      Cumulative Business value  \n",
       "2242                        0.0  \n",
       "1474                        0.0  \n",
       "2132                        0.0  \n",
       "1873                        0.0  \n",
       "462                         0.0  \n",
       "...                         ...  \n",
       "1883                        0.0  \n",
       "1355                        0.0  \n",
       "2229                        0.0  \n",
       "2234                        0.0  \n",
       "855                         0.0  \n",
       "\n",
       "[1904 rows x 11 columns]"
      ]
     },
     "execution_count": 484,
     "metadata": {},
     "output_type": "execute_result"
    }
   ],
   "source": [
    "X_train"
   ]
  },
  {
   "cell_type": "markdown",
   "id": "049f56f9",
   "metadata": {},
   "source": [
    "## Bagging - Random Forest"
   ]
  },
  {
   "cell_type": "code",
   "execution_count": 485,
   "id": "96d685d7",
   "metadata": {},
   "outputs": [],
   "source": [
    "parameters = {\n",
    "    'n_estimators':[200,300,500,1000],\n",
    "    'max_depth':[6,8,10],\n",
    "    'class_weight':['balanced'],\n",
    "    #'min_samples_split':[6,8,10],\n",
    "    'random_state':[42],\n",
    "    'oob_score':[True],\n",
    "    \n",
    "}\n",
    "rf_model = RandomForestClassifier()\n",
    "clf_rf = GridSearchCV(rf_model, parameters,scoring='f1',n_jobs=-1)"
   ]
  },
  {
   "cell_type": "code",
   "execution_count": 486,
   "id": "3c6596d5",
   "metadata": {},
   "outputs": [
    {
     "data": {
      "text/html": [
       "<style>#sk-container-id-14 {color: black;background-color: white;}#sk-container-id-14 pre{padding: 0;}#sk-container-id-14 div.sk-toggleable {background-color: white;}#sk-container-id-14 label.sk-toggleable__label {cursor: pointer;display: block;width: 100%;margin-bottom: 0;padding: 0.3em;box-sizing: border-box;text-align: center;}#sk-container-id-14 label.sk-toggleable__label-arrow:before {content: \"▸\";float: left;margin-right: 0.25em;color: #696969;}#sk-container-id-14 label.sk-toggleable__label-arrow:hover:before {color: black;}#sk-container-id-14 div.sk-estimator:hover label.sk-toggleable__label-arrow:before {color: black;}#sk-container-id-14 div.sk-toggleable__content {max-height: 0;max-width: 0;overflow: hidden;text-align: left;background-color: #f0f8ff;}#sk-container-id-14 div.sk-toggleable__content pre {margin: 0.2em;color: black;border-radius: 0.25em;background-color: #f0f8ff;}#sk-container-id-14 input.sk-toggleable__control:checked~div.sk-toggleable__content {max-height: 200px;max-width: 100%;overflow: auto;}#sk-container-id-14 input.sk-toggleable__control:checked~label.sk-toggleable__label-arrow:before {content: \"▾\";}#sk-container-id-14 div.sk-estimator input.sk-toggleable__control:checked~label.sk-toggleable__label {background-color: #d4ebff;}#sk-container-id-14 div.sk-label input.sk-toggleable__control:checked~label.sk-toggleable__label {background-color: #d4ebff;}#sk-container-id-14 input.sk-hidden--visually {border: 0;clip: rect(1px 1px 1px 1px);clip: rect(1px, 1px, 1px, 1px);height: 1px;margin: -1px;overflow: hidden;padding: 0;position: absolute;width: 1px;}#sk-container-id-14 div.sk-estimator {font-family: monospace;background-color: #f0f8ff;border: 1px dotted black;border-radius: 0.25em;box-sizing: border-box;margin-bottom: 0.5em;}#sk-container-id-14 div.sk-estimator:hover {background-color: #d4ebff;}#sk-container-id-14 div.sk-parallel-item::after {content: \"\";width: 100%;border-bottom: 1px solid gray;flex-grow: 1;}#sk-container-id-14 div.sk-label:hover label.sk-toggleable__label {background-color: #d4ebff;}#sk-container-id-14 div.sk-serial::before {content: \"\";position: absolute;border-left: 1px solid gray;box-sizing: border-box;top: 0;bottom: 0;left: 50%;z-index: 0;}#sk-container-id-14 div.sk-serial {display: flex;flex-direction: column;align-items: center;background-color: white;padding-right: 0.2em;padding-left: 0.2em;position: relative;}#sk-container-id-14 div.sk-item {position: relative;z-index: 1;}#sk-container-id-14 div.sk-parallel {display: flex;align-items: stretch;justify-content: center;background-color: white;position: relative;}#sk-container-id-14 div.sk-item::before, #sk-container-id-14 div.sk-parallel-item::before {content: \"\";position: absolute;border-left: 1px solid gray;box-sizing: border-box;top: 0;bottom: 0;left: 50%;z-index: -1;}#sk-container-id-14 div.sk-parallel-item {display: flex;flex-direction: column;z-index: 1;position: relative;background-color: white;}#sk-container-id-14 div.sk-parallel-item:first-child::after {align-self: flex-end;width: 50%;}#sk-container-id-14 div.sk-parallel-item:last-child::after {align-self: flex-start;width: 50%;}#sk-container-id-14 div.sk-parallel-item:only-child::after {width: 0;}#sk-container-id-14 div.sk-dashed-wrapped {border: 1px dashed gray;margin: 0 0.4em 0.5em 0.4em;box-sizing: border-box;padding-bottom: 0.4em;background-color: white;}#sk-container-id-14 div.sk-label label {font-family: monospace;font-weight: bold;display: inline-block;line-height: 1.2em;}#sk-container-id-14 div.sk-label-container {text-align: center;}#sk-container-id-14 div.sk-container {/* jupyter's `normalize.less` sets `[hidden] { display: none; }` but bootstrap.min.css set `[hidden] { display: none !important; }` so we also need the `!important` here to be able to override the default hidden behavior on the sphinx rendered scikit-learn.org. See: https://github.com/scikit-learn/scikit-learn/issues/21755 */display: inline-block !important;position: relative;}#sk-container-id-14 div.sk-text-repr-fallback {display: none;}</style><div id=\"sk-container-id-14\" class=\"sk-top-container\"><div class=\"sk-text-repr-fallback\"><pre>GridSearchCV(estimator=RandomForestClassifier(), n_jobs=-1,\n",
       "             param_grid={&#x27;class_weight&#x27;: [&#x27;balanced&#x27;], &#x27;max_depth&#x27;: [6, 8, 10],\n",
       "                         &#x27;n_estimators&#x27;: [200, 300, 500, 1000],\n",
       "                         &#x27;oob_score&#x27;: [True], &#x27;random_state&#x27;: [42]},\n",
       "             scoring=&#x27;f1&#x27;)</pre><b>In a Jupyter environment, please rerun this cell to show the HTML representation or trust the notebook. <br />On GitHub, the HTML representation is unable to render, please try loading this page with nbviewer.org.</b></div><div class=\"sk-container\" hidden><div class=\"sk-item sk-dashed-wrapped\"><div class=\"sk-label-container\"><div class=\"sk-label sk-toggleable\"><input class=\"sk-toggleable__control sk-hidden--visually\" id=\"sk-estimator-id-38\" type=\"checkbox\" ><label for=\"sk-estimator-id-38\" class=\"sk-toggleable__label sk-toggleable__label-arrow\">GridSearchCV</label><div class=\"sk-toggleable__content\"><pre>GridSearchCV(estimator=RandomForestClassifier(), n_jobs=-1,\n",
       "             param_grid={&#x27;class_weight&#x27;: [&#x27;balanced&#x27;], &#x27;max_depth&#x27;: [6, 8, 10],\n",
       "                         &#x27;n_estimators&#x27;: [200, 300, 500, 1000],\n",
       "                         &#x27;oob_score&#x27;: [True], &#x27;random_state&#x27;: [42]},\n",
       "             scoring=&#x27;f1&#x27;)</pre></div></div></div><div class=\"sk-parallel\"><div class=\"sk-parallel-item\"><div class=\"sk-item\"><div class=\"sk-label-container\"><div class=\"sk-label sk-toggleable\"><input class=\"sk-toggleable__control sk-hidden--visually\" id=\"sk-estimator-id-39\" type=\"checkbox\" ><label for=\"sk-estimator-id-39\" class=\"sk-toggleable__label sk-toggleable__label-arrow\">estimator: RandomForestClassifier</label><div class=\"sk-toggleable__content\"><pre>RandomForestClassifier()</pre></div></div></div><div class=\"sk-serial\"><div class=\"sk-item\"><div class=\"sk-estimator sk-toggleable\"><input class=\"sk-toggleable__control sk-hidden--visually\" id=\"sk-estimator-id-40\" type=\"checkbox\" ><label for=\"sk-estimator-id-40\" class=\"sk-toggleable__label sk-toggleable__label-arrow\">RandomForestClassifier</label><div class=\"sk-toggleable__content\"><pre>RandomForestClassifier()</pre></div></div></div></div></div></div></div></div></div></div>"
      ],
      "text/plain": [
       "GridSearchCV(estimator=RandomForestClassifier(), n_jobs=-1,\n",
       "             param_grid={'class_weight': ['balanced'], 'max_depth': [6, 8, 10],\n",
       "                         'n_estimators': [200, 300, 500, 1000],\n",
       "                         'oob_score': [True], 'random_state': [42]},\n",
       "             scoring='f1')"
      ]
     },
     "execution_count": 486,
     "metadata": {},
     "output_type": "execute_result"
    }
   ],
   "source": [
    "clf_rf.fit(X_train,y_train)"
   ]
  },
  {
   "cell_type": "code",
   "execution_count": 487,
   "id": "83206cde",
   "metadata": {},
   "outputs": [],
   "source": [
    "best_rf_model = clf_rf.best_estimator_"
   ]
  },
  {
   "cell_type": "code",
   "execution_count": 488,
   "id": "e3a20b2c",
   "metadata": {},
   "outputs": [
    {
     "name": "stdout",
     "output_type": "stream",
     "text": [
      "---------- Confusion Matrix for Train Data ----------\n",
      "              precision    recall  f1-score   support\n",
      "\n",
      "         0.0       0.90      0.83      0.86       612\n",
      "         1.0       0.92      0.96      0.94      1292\n",
      "\n",
      "    accuracy                           0.91      1904\n",
      "   macro avg       0.91      0.89      0.90      1904\n",
      "weighted avg       0.91      0.91      0.91      1904\n",
      "\n"
     ]
    }
   ],
   "source": [
    "print(\"---------- Confusion Matrix for Train Data ----------\")\n",
    "rf_train_predictions = best_rf_model.predict(X_train) \n",
    "print(classification_report(y_train, rf_train_predictions)) "
   ]
  },
  {
   "cell_type": "code",
   "execution_count": 489,
   "id": "29f4f8d2",
   "metadata": {},
   "outputs": [
    {
     "name": "stdout",
     "output_type": "stream",
     "text": [
      "---------- Confusion Matrix for Test Data ----------\n",
      "              precision    recall  f1-score   support\n",
      "\n",
      "         0.0       0.69      0.64      0.66       153\n",
      "         1.0       0.84      0.86      0.85       324\n",
      "\n",
      "    accuracy                           0.79       477\n",
      "   macro avg       0.76      0.75      0.76       477\n",
      "weighted avg       0.79      0.79      0.79       477\n",
      "\n"
     ]
    }
   ],
   "source": [
    "print(\"---------- Confusion Matrix for Test Data ----------\")\n",
    "rf_test_predictions = best_rf_model.predict(X_test) \n",
    "   \n",
    "# print classification report \n",
    "print(classification_report(y_test, rf_test_predictions)) "
   ]
  },
  {
   "cell_type": "code",
   "execution_count": 490,
   "id": "0c622b99",
   "metadata": {},
   "outputs": [
    {
     "name": "stderr",
     "output_type": "stream",
     "text": [
      "/opt/anaconda3/lib/python3.9/site-packages/sklearn/utils/deprecation.py:87: FutureWarning: Function plot_confusion_matrix is deprecated; Function `plot_confusion_matrix` is deprecated in 1.0 and will be removed in 1.2. Use one of the class methods: ConfusionMatrixDisplay.from_predictions or ConfusionMatrixDisplay.from_estimator.\n",
      "  warnings.warn(msg, category=FutureWarning)\n"
     ]
    },
    {
     "data": {
      "text/plain": [
       "<sklearn.metrics._plot.confusion_matrix.ConfusionMatrixDisplay at 0x7fe3c3bf0b50>"
      ]
     },
     "execution_count": 490,
     "metadata": {},
     "output_type": "execute_result"
    },
    {
     "data": {
      "image/png": "[encoded data removed]",
      "text/plain": [
       "<Figure size 432x288 with 2 Axes>"
      ]
     },
     "metadata": {
      "needs_background": "light"
     },
     "output_type": "display_data"
    }
   ],
   "source": [
    "plot_confusion_matrix(best_rf_model,X_test,y_test)"
   ]
  },
  {
   "cell_type": "code",
   "execution_count": 491,
   "id": "b947cb9c",
   "metadata": {},
   "outputs": [
    {
     "data": {
      "text/plain": [
       "array([0.11267364, 0.02502687, 0.03835819, 0.05214781, 0.05432243,\n",
       "       0.25935888, 0.1103978 , 0.01067393, 0.12766773, 0.16712873,\n",
       "       0.042244  ])"
      ]
     },
     "execution_count": 491,
     "metadata": {},
     "output_type": "execute_result"
    }
   ],
   "source": [
    "best_rf_model.feature_importances_"
   ]
  },
  {
   "cell_type": "code",
   "execution_count": 492,
   "id": "f07cbdd0",
   "metadata": {},
   "outputs": [
    {
     "data": {
      "image/png": "[encoded data removed]",
      "text/plain": [
       "<Figure size 1080x360 with 1 Axes>"
      ]
     },
     "metadata": {
      "needs_background": "light"
     },
     "output_type": "display_data"
    }
   ],
   "source": [
    "plt.figure(figsize=(15,5))\n",
    "sns.barplot(x=X_train.columns, y=best_rf_model.feature_importances_)\n",
    "plt.xticks(rotation=45)\n",
    "plt.show()"
   ]
  },
  {
   "cell_type": "code",
   "execution_count": 493,
   "id": "60cd884d",
   "metadata": {},
   "outputs": [
    {
     "name": "stdout",
     "output_type": "stream",
     "text": [
      "f1-score for train data 0.9381404174573055\n",
      "f1-score for test data 0.8480243161094225\n"
     ]
    }
   ],
   "source": [
    "print(\"f1-score for train data {}\".format(f1_score(y_train,rf_train_predictions)))\n",
    "print(\"f1-score for test data {}\".format(f1_score(y_test,rf_test_predictions)))"
   ]
  },
  {
   "cell_type": "code",
   "execution_count": 494,
   "id": "cac3de52",
   "metadata": {},
   "outputs": [
    {
     "name": "stdout",
     "output_type": "stream",
     "text": [
      "Best Params for bagging {'class_weight': 'balanced', 'max_depth': 10, 'n_estimators': 200, 'oob_score': True, 'random_state': 42}\n"
     ]
    }
   ],
   "source": [
    "print(\"Best Params for bagging\",clf_rf.best_params_)"
   ]
  },
  {
   "cell_type": "code",
   "execution_count": 495,
   "id": "49dcecf0",
   "metadata": {},
   "outputs": [],
   "source": [
    "def buildROC(target_test,test_preds):\n",
    "    fpr, tpr, threshold = roc_curve(target_test, test_preds)\n",
    "    roc_auc = auc(fpr, tpr)\n",
    "    plt.title('Receiver Operating Characteristic')\n",
    "    plt.plot(fpr, tpr, 'b', label = 'AUC = %0.2f' % roc_auc)\n",
    "    plt.legend(loc = 'lower right')\n",
    "    plt.plot([0, 1], [0, 1],'r--')\n",
    "    plt.ylabel('True Positive Rate')\n",
    "    plt.xlabel('False Positive Rate')\n"
   ]
  },
  {
   "cell_type": "code",
   "execution_count": 496,
   "id": "2218fc06",
   "metadata": {},
   "outputs": [
    {
     "data": {
      "image/png": "[encoded data removed]",
      "text/plain": [
       "<Figure size 432x288 with 1 Axes>"
      ]
     },
     "metadata": {
      "needs_background": "light"
     },
     "output_type": "display_data"
    }
   ],
   "source": [
    "buildROC(y_test,rf_test_predictions)"
   ]
  },
  {
   "cell_type": "code",
   "execution_count": 497,
   "id": "61d2e97e",
   "metadata": {},
   "outputs": [
    {
     "data": {
      "image/png": "[encoded data removed]",
      "text/plain": [
       "<Figure size 432x288 with 1 Axes>"
      ]
     },
     "metadata": {
      "needs_background": "light"
     },
     "output_type": "display_data"
    }
   ],
   "source": [
    "buildROC(y_train,rf_train_predictions)"
   ]
  },
  {
   "cell_type": "markdown",
   "id": "a094e92a",
   "metadata": {},
   "source": [
    "<div class=\"alert alert-block alert-success\">\n",
    "<b>Comment On ROC and AUC:</b> Since we are more focused on knowing who'll be leaving the company, we need a high TPR and thus a high threshold value will work for us.\n",
    "</div>"
   ]
  },
  {
   "cell_type": "markdown",
   "id": "8e5a360c",
   "metadata": {},
   "source": [
    "## Boosting - XGBoost"
   ]
  },
  {
   "cell_type": "code",
   "execution_count": 498,
   "id": "66bea8d4",
   "metadata": {},
   "outputs": [
    {
     "data": {
      "text/html": [
       "<style>#sk-container-id-15 {color: black;background-color: white;}#sk-container-id-15 pre{padding: 0;}#sk-container-id-15 div.sk-toggleable {background-color: white;}#sk-container-id-15 label.sk-toggleable__label {cursor: pointer;display: block;width: 100%;margin-bottom: 0;padding: 0.3em;box-sizing: border-box;text-align: center;}#sk-container-id-15 label.sk-toggleable__label-arrow:before {content: \"▸\";float: left;margin-right: 0.25em;color: #696969;}#sk-container-id-15 label.sk-toggleable__label-arrow:hover:before {color: black;}#sk-container-id-15 div.sk-estimator:hover label.sk-toggleable__label-arrow:before {color: black;}#sk-container-id-15 div.sk-toggleable__content {max-height: 0;max-width: 0;overflow: hidden;text-align: left;background-color: #f0f8ff;}#sk-container-id-15 div.sk-toggleable__content pre {margin: 0.2em;color: black;border-radius: 0.25em;background-color: #f0f8ff;}#sk-container-id-15 input.sk-toggleable__control:checked~div.sk-toggleable__content {max-height: 200px;max-width: 100%;overflow: auto;}#sk-container-id-15 input.sk-toggleable__control:checked~label.sk-toggleable__label-arrow:before {content: \"▾\";}#sk-container-id-15 div.sk-estimator input.sk-toggleable__control:checked~label.sk-toggleable__label {background-color: #d4ebff;}#sk-container-id-15 div.sk-label input.sk-toggleable__control:checked~label.sk-toggleable__label {background-color: #d4ebff;}#sk-container-id-15 input.sk-hidden--visually {border: 0;clip: rect(1px 1px 1px 1px);clip: rect(1px, 1px, 1px, 1px);height: 1px;margin: -1px;overflow: hidden;padding: 0;position: absolute;width: 1px;}#sk-container-id-15 div.sk-estimator {font-family: monospace;background-color: #f0f8ff;border: 1px dotted black;border-radius: 0.25em;box-sizing: border-box;margin-bottom: 0.5em;}#sk-container-id-15 div.sk-estimator:hover {background-color: #d4ebff;}#sk-container-id-15 div.sk-parallel-item::after {content: \"\";width: 100%;border-bottom: 1px solid gray;flex-grow: 1;}#sk-container-id-15 div.sk-label:hover label.sk-toggleable__label {background-color: #d4ebff;}#sk-container-id-15 div.sk-serial::before {content: \"\";position: absolute;border-left: 1px solid gray;box-sizing: border-box;top: 0;bottom: 0;left: 50%;z-index: 0;}#sk-container-id-15 div.sk-serial {display: flex;flex-direction: column;align-items: center;background-color: white;padding-right: 0.2em;padding-left: 0.2em;position: relative;}#sk-container-id-15 div.sk-item {position: relative;z-index: 1;}#sk-container-id-15 div.sk-parallel {display: flex;align-items: stretch;justify-content: center;background-color: white;position: relative;}#sk-container-id-15 div.sk-item::before, #sk-container-id-15 div.sk-parallel-item::before {content: \"\";position: absolute;border-left: 1px solid gray;box-sizing: border-box;top: 0;bottom: 0;left: 50%;z-index: -1;}#sk-container-id-15 div.sk-parallel-item {display: flex;flex-direction: column;z-index: 1;position: relative;background-color: white;}#sk-container-id-15 div.sk-parallel-item:first-child::after {align-self: flex-end;width: 50%;}#sk-container-id-15 div.sk-parallel-item:last-child::after {align-self: flex-start;width: 50%;}#sk-container-id-15 div.sk-parallel-item:only-child::after {width: 0;}#sk-container-id-15 div.sk-dashed-wrapped {border: 1px dashed gray;margin: 0 0.4em 0.5em 0.4em;box-sizing: border-box;padding-bottom: 0.4em;background-color: white;}#sk-container-id-15 div.sk-label label {font-family: monospace;font-weight: bold;display: inline-block;line-height: 1.2em;}#sk-container-id-15 div.sk-label-container {text-align: center;}#sk-container-id-15 div.sk-container {/* jupyter's `normalize.less` sets `[hidden] { display: none; }` but bootstrap.min.css set `[hidden] { display: none !important; }` so we also need the `!important` here to be able to override the default hidden behavior on the sphinx rendered scikit-learn.org. See: https://github.com/scikit-learn/scikit-learn/issues/21755 */display: inline-block !important;position: relative;}#sk-container-id-15 div.sk-text-repr-fallback {display: none;}</style><div id=\"sk-container-id-15\" class=\"sk-top-container\"><div class=\"sk-text-repr-fallback\"><pre>GridSearchCV(estimator=XGBClassifier(base_score=None, booster=None,\n",
       "                                     callbacks=None, colsample_bylevel=None,\n",
       "                                     colsample_bynode=None,\n",
       "                                     colsample_bytree=None,\n",
       "                                     early_stopping_rounds=None,\n",
       "                                     enable_categorical=False, eval_metric=None,\n",
       "                                     feature_types=None, gamma=None,\n",
       "                                     gpu_id=None, grow_policy=None,\n",
       "                                     importance_type=None,\n",
       "                                     interaction_constraints=None,\n",
       "                                     learning_rate=None, max_b...\n",
       "                                     missing=nan, monotone_constraints=None,\n",
       "                                     n_estimators=100, n_jobs=None,\n",
       "                                     num_parallel_tree=None, predictor=None,\n",
       "                                     random_state=None, ...),\n",
       "             n_jobs=-1,\n",
       "             param_grid={&#x27;colsample_bytree&#x27;: [0.3, 0.4, 0.5, 0.8],\n",
       "                         &#x27;learning_rate&#x27;: [0.05], &#x27;max_depth&#x27;: [4, 6, 8],\n",
       "                         &#x27;n_estimators&#x27;: [1000, 200, 300],\n",
       "                         &#x27;objective&#x27;: [&#x27;binary:logistic&#x27;],\n",
       "                         &#x27;scale_pos_weight&#x27;: [1, 10, 20, 50, 100], &#x27;seed&#x27;: [42],\n",
       "                         &#x27;subsample&#x27;: [0.8, 0.6, 0.4]},\n",
       "             scoring=&#x27;f1&#x27;)</pre><b>In a Jupyter environment, please rerun this cell to show the HTML representation or trust the notebook. <br />On GitHub, the HTML representation is unable to render, please try loading this page with nbviewer.org.</b></div><div class=\"sk-container\" hidden><div class=\"sk-item sk-dashed-wrapped\"><div class=\"sk-label-container\"><div class=\"sk-label sk-toggleable\"><input class=\"sk-toggleable__control sk-hidden--visually\" id=\"sk-estimator-id-41\" type=\"checkbox\" ><label for=\"sk-estimator-id-41\" class=\"sk-toggleable__label sk-toggleable__label-arrow\">GridSearchCV</label><div class=\"sk-toggleable__content\"><pre>GridSearchCV(estimator=XGBClassifier(base_score=None, booster=None,\n",
       "                                     callbacks=None, colsample_bylevel=None,\n",
       "                                     colsample_bynode=None,\n",
       "                                     colsample_bytree=None,\n",
       "                                     early_stopping_rounds=None,\n",
       "                                     enable_categorical=False, eval_metric=None,\n",
       "                                     feature_types=None, gamma=None,\n",
       "                                     gpu_id=None, grow_policy=None,\n",
       "                                     importance_type=None,\n",
       "                                     interaction_constraints=None,\n",
       "                                     learning_rate=None, max_b...\n",
       "                                     missing=nan, monotone_constraints=None,\n",
       "                                     n_estimators=100, n_jobs=None,\n",
       "                                     num_parallel_tree=None, predictor=None,\n",
       "                                     random_state=None, ...),\n",
       "             n_jobs=-1,\n",
       "             param_grid={&#x27;colsample_bytree&#x27;: [0.3, 0.4, 0.5, 0.8],\n",
       "                         &#x27;learning_rate&#x27;: [0.05], &#x27;max_depth&#x27;: [4, 6, 8],\n",
       "                         &#x27;n_estimators&#x27;: [1000, 200, 300],\n",
       "                         &#x27;objective&#x27;: [&#x27;binary:logistic&#x27;],\n",
       "                         &#x27;scale_pos_weight&#x27;: [1, 10, 20, 50, 100], &#x27;seed&#x27;: [42],\n",
       "                         &#x27;subsample&#x27;: [0.8, 0.6, 0.4]},\n",
       "             scoring=&#x27;f1&#x27;)</pre></div></div></div><div class=\"sk-parallel\"><div class=\"sk-parallel-item\"><div class=\"sk-item\"><div class=\"sk-label-container\"><div class=\"sk-label sk-toggleable\"><input class=\"sk-toggleable__control sk-hidden--visually\" id=\"sk-estimator-id-42\" type=\"checkbox\" ><label for=\"sk-estimator-id-42\" class=\"sk-toggleable__label sk-toggleable__label-arrow\">estimator: XGBClassifier</label><div class=\"sk-toggleable__content\"><pre>XGBClassifier(base_score=None, booster=None, callbacks=None,\n",
       "              colsample_bylevel=None, colsample_bynode=None,\n",
       "              colsample_bytree=None, early_stopping_rounds=None,\n",
       "              enable_categorical=False, eval_metric=None, feature_types=None,\n",
       "              gamma=None, gpu_id=None, grow_policy=None, importance_type=None,\n",
       "              interaction_constraints=None, learning_rate=None, max_bin=None,\n",
       "              max_cat_threshold=None, max_cat_to_onehot=None,\n",
       "              max_delta_step=None, max_depth=None, max_leaves=None,\n",
       "              min_child_weight=None, missing=nan, monotone_constraints=None,\n",
       "              n_estimators=100, n_jobs=None, num_parallel_tree=None,\n",
       "              predictor=None, random_state=None, ...)</pre></div></div></div><div class=\"sk-serial\"><div class=\"sk-item\"><div class=\"sk-estimator sk-toggleable\"><input class=\"sk-toggleable__control sk-hidden--visually\" id=\"sk-estimator-id-43\" type=\"checkbox\" ><label for=\"sk-estimator-id-43\" class=\"sk-toggleable__label sk-toggleable__label-arrow\">XGBClassifier</label><div class=\"sk-toggleable__content\"><pre>XGBClassifier(base_score=None, booster=None, callbacks=None,\n",
       "              colsample_bylevel=None, colsample_bynode=None,\n",
       "              colsample_bytree=None, early_stopping_rounds=None,\n",
       "              enable_categorical=False, eval_metric=None, feature_types=None,\n",
       "              gamma=None, gpu_id=None, grow_policy=None, importance_type=None,\n",
       "              interaction_constraints=None, learning_rate=None, max_bin=None,\n",
       "              max_cat_threshold=None, max_cat_to_onehot=None,\n",
       "              max_delta_step=None, max_depth=None, max_leaves=None,\n",
       "              min_child_weight=None, missing=nan, monotone_constraints=None,\n",
       "              n_estimators=100, n_jobs=None, num_parallel_tree=None,\n",
       "              predictor=None, random_state=None, ...)</pre></div></div></div></div></div></div></div></div></div></div>"
      ],
      "text/plain": [
       "GridSearchCV(estimator=XGBClassifier(base_score=None, booster=None,\n",
       "                                     callbacks=None, colsample_bylevel=None,\n",
       "                                     colsample_bynode=None,\n",
       "                                     colsample_bytree=None,\n",
       "                                     early_stopping_rounds=None,\n",
       "                                     enable_categorical=False, eval_metric=None,\n",
       "                                     feature_types=None, gamma=None,\n",
       "                                     gpu_id=None, grow_policy=None,\n",
       "                                     importance_type=None,\n",
       "                                     interaction_constraints=None,\n",
       "                                     learning_rate=None, max_b...\n",
       "                                     missing=nan, monotone_constraints=None,\n",
       "                                     n_estimators=100, n_jobs=None,\n",
       "                                     num_parallel_tree=None, predictor=None,\n",
       "                                     random_state=None, ...),\n",
       "             n_jobs=-1,\n",
       "             param_grid={'colsample_bytree': [0.3, 0.4, 0.5, 0.8],\n",
       "                         'learning_rate': [0.05], 'max_depth': [4, 6, 8],\n",
       "                         'n_estimators': [1000, 200, 300],\n",
       "                         'objective': ['binary:logistic'],\n",
       "                         'scale_pos_weight': [1, 10, 20, 50, 100], 'seed': [42],\n",
       "                         'subsample': [0.8, 0.6, 0.4]},\n",
       "             scoring='f1')"
      ]
     },
     "execution_count": 498,
     "metadata": {},
     "output_type": "execute_result"
    }
   ],
   "source": [
    "xgb_model = xgb.XGBClassifier()\n",
    "parameters = {\n",
    "              'objective':['binary:logistic'],\n",
    "              'learning_rate': [0.05], #so called `eta` value\n",
    "              'max_depth': [4,6,8],\n",
    "              'subsample': [0.8,0.6,0.4],\n",
    "              'colsample_bytree': [0.3,0.4,0.5,0.8],\n",
    "              'scale_pos_weight':[1,10,20,50,100],\n",
    "              'n_estimators': [1000,200,300], #number of trees, change it to 1000 for better results\n",
    "              'seed':[42]\n",
    "            }\n",
    "\n",
    "clf_xg = GridSearchCV(xgb_model, parameters, n_jobs=-1,scoring='f1') \n",
    "clf_xg.fit(X_train,y_train)                 "
   ]
  },
  {
   "cell_type": "code",
   "execution_count": 499,
   "id": "014ca63a",
   "metadata": {},
   "outputs": [],
   "source": [
    "best_xg_model = clf_xg.best_estimator_"
   ]
  },
  {
   "cell_type": "code",
   "execution_count": 500,
   "id": "63602a6c",
   "metadata": {},
   "outputs": [
    {
     "data": {
      "text/plain": [
       "{'colsample_bytree': 0.3,\n",
       " 'learning_rate': 0.05,\n",
       " 'max_depth': 4,\n",
       " 'n_estimators': 200,\n",
       " 'objective': 'binary:logistic',\n",
       " 'scale_pos_weight': 1,\n",
       " 'seed': 42,\n",
       " 'subsample': 0.4}"
      ]
     },
     "execution_count": 500,
     "metadata": {},
     "output_type": "execute_result"
    }
   ],
   "source": [
    "clf_xg.best_params_"
   ]
  },
  {
   "cell_type": "code",
   "execution_count": 501,
   "id": "a33b169e",
   "metadata": {},
   "outputs": [
    {
     "name": "stdout",
     "output_type": "stream",
     "text": [
      "              precision    recall  f1-score   support\n",
      "\n",
      "         0.0       0.82      0.56      0.67       612\n",
      "         1.0       0.82      0.94      0.88      1292\n",
      "\n",
      "    accuracy                           0.82      1904\n",
      "   macro avg       0.82      0.75      0.77      1904\n",
      "weighted avg       0.82      0.82      0.81      1904\n",
      "\n"
     ]
    }
   ],
   "source": [
    "xg_train_predictions = best_xg_model.predict(X_train) \n",
    "\n",
    "print(classification_report(y_train, xg_train_predictions)) "
   ]
  },
  {
   "cell_type": "code",
   "execution_count": 502,
   "id": "22fd61e3",
   "metadata": {},
   "outputs": [
    {
     "name": "stdout",
     "output_type": "stream",
     "text": [
      "              precision    recall  f1-score   support\n",
      "\n",
      "         0.0       0.81      0.58      0.67       153\n",
      "         1.0       0.82      0.94      0.88       324\n",
      "\n",
      "    accuracy                           0.82       477\n",
      "   macro avg       0.82      0.76      0.77       477\n",
      "weighted avg       0.82      0.82      0.81       477\n",
      "\n"
     ]
    }
   ],
   "source": [
    "xg_test_predictions = best_xg_model.predict(X_test) \n",
    "   \n",
    "# print classification report \n",
    "print(classification_report(y_test, xg_test_predictions))"
   ]
  },
  {
   "cell_type": "code",
   "execution_count": 503,
   "id": "9c2d0893",
   "metadata": {},
   "outputs": [
    {
     "name": "stdout",
     "output_type": "stream",
     "text": [
      "f1-score for train data 0.8765743073047858\n",
      "f1-score for test data 0.8757225433526011\n"
     ]
    }
   ],
   "source": [
    "print(\"f1-score for train data {}\".format(f1_score(y_train,xg_train_predictions)))\n",
    "print(\"f1-score for test data {}\".format(f1_score(y_test,xg_test_predictions)))"
   ]
  },
  {
   "cell_type": "code",
   "execution_count": 504,
   "id": "3af1aadf",
   "metadata": {},
   "outputs": [
    {
     "data": {
      "text/plain": [
       "1.0    324\n",
       "0.0    153\n",
       "Name: Target, dtype: int64"
      ]
     },
     "execution_count": 504,
     "metadata": {},
     "output_type": "execute_result"
    }
   ],
   "source": [
    "y_test.value_counts()"
   ]
  },
  {
   "cell_type": "code",
   "execution_count": 505,
   "id": "5f3c37dd",
   "metadata": {},
   "outputs": [
    {
     "name": "stderr",
     "output_type": "stream",
     "text": [
      "/opt/anaconda3/lib/python3.9/site-packages/sklearn/utils/deprecation.py:87: FutureWarning: Function plot_confusion_matrix is deprecated; Function `plot_confusion_matrix` is deprecated in 1.0 and will be removed in 1.2. Use one of the class methods: ConfusionMatrixDisplay.from_predictions or ConfusionMatrixDisplay.from_estimator.\n",
      "  warnings.warn(msg, category=FutureWarning)\n"
     ]
    },
    {
     "data": {
      "text/plain": [
       "<sklearn.metrics._plot.confusion_matrix.ConfusionMatrixDisplay at 0x7fe3c3ebea30>"
      ]
     },
     "execution_count": 505,
     "metadata": {},
     "output_type": "execute_result"
    },
    {
     "data": {
      "image/png": "[encoded data removed]",
      "text/plain": [
       "<Figure size 432x288 with 2 Axes>"
      ]
     },
     "metadata": {
      "needs_background": "light"
     },
     "output_type": "display_data"
    }
   ],
   "source": [
    "plot_confusion_matrix(best_xg_model,X_test,y_test)"
   ]
  },
  {
   "cell_type": "code",
   "execution_count": 506,
   "id": "ca6cdf8e",
   "metadata": {},
   "outputs": [
    {
     "data": {
      "text/plain": [
       "1.0    1292\n",
       "0.0     612\n",
       "Name: Target, dtype: int64"
      ]
     },
     "execution_count": 506,
     "metadata": {},
     "output_type": "execute_result"
    }
   ],
   "source": [
    "y_train.value_counts()"
   ]
  },
  {
   "cell_type": "code",
   "execution_count": 507,
   "id": "d319a6ea",
   "metadata": {},
   "outputs": [
    {
     "data": {
      "image/png": "[encoded data removed]",
      "text/plain": [
       "<Figure size 1080x360 with 1 Axes>"
      ]
     },
     "metadata": {
      "needs_background": "light"
     },
     "output_type": "display_data"
    }
   ],
   "source": [
    "plt.figure(figsize=(15,5))\n",
    "sns.barplot(x=X_train.columns, y=best_xg_model.feature_importances_)\n",
    "plt.xticks(rotation=45)\n",
    "plt.show()"
   ]
  },
  {
   "cell_type": "code",
   "execution_count": 508,
   "id": "3025fed8",
   "metadata": {},
   "outputs": [
    {
     "data": {
      "image/png": "[encoded data removed]",
      "text/plain": [
       "<Figure size 432x288 with 1 Axes>"
      ]
     },
     "metadata": {
      "needs_background": "light"
     },
     "output_type": "display_data"
    }
   ],
   "source": [
    "buildROC(y_test,xg_test_predictions)"
   ]
  },
  {
   "cell_type": "code",
   "execution_count": 509,
   "id": "2fa9644f",
   "metadata": {},
   "outputs": [
    {
     "data": {
      "image/png": "[encoded data removed]",
      "text/plain": [
       "<Figure size 432x288 with 1 Axes>"
      ]
     },
     "metadata": {
      "needs_background": "light"
     },
     "output_type": "display_data"
    }
   ],
   "source": [
    "buildROC(y_train,xg_train_predictions)"
   ]
  },
  {
   "cell_type": "markdown",
   "id": "80f93d26",
   "metadata": {},
   "source": [
    "<div class=\"alert alert-block alert-success\">\n",
    "<b>Comment On ROC and AUC:</b> Since we are more focused on knowing who'll be leaving the company, we need a high TPR and thus a high threshold value will work for us.\n",
    "</div>"
   ]
  },
  {
   "cell_type": "markdown",
   "id": "edf2c784",
   "metadata": {},
   "source": [
    "## Business Insights"
   ]
  },
  {
   "cell_type": "markdown",
   "id": "3bc0ce07",
   "metadata": {},
   "source": [
    "- Qaurterly Rating matters a lot because if driver has a drop in rating, it will impact his income and thus will lead to attrition. Companies can work on developing a different metric to rate their performance and also help the drivers having a drop in rating.\n",
    "- Company can bring in more driver friendly policies like life insurance, medical cover, incentives on increase in quarterly rating etc.\n",
    "- The company can use the above model to detect if their is an employee having a high chance of leaving and then try to retain that employee.\n",
    "\n"
   ]
  },
  {
   "cell_type": "code",
   "execution_count": null,
   "id": "639fbbab",
   "metadata": {},
   "outputs": [],
   "source": []
  }
 ],
 "metadata": {
  "kernelspec": {
   "display_name": "Python 3 (ipykernel)",
   "language": "python",
   "name": "python3"
  },
  "language_info": {
   "codemirror_mode": {
    "name": "ipython",
    "version": 3
   },
   "file_extension": ".py",
   "mimetype": "text/x-python",
   "name": "python",
   "nbconvert_exporter": "python",
   "pygments_lexer": "ipython3",
   "version": "3.9.7"
  }
 },
 "nbformat": 4,
 "nbformat_minor": 5
}
